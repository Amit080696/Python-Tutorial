{
 "cells": [
  {
   "cell_type": "markdown",
   "id": "aaa6e69c-e704-4fba-8c28-c4363b1ab884",
   "metadata": {},
   "source": [
    "- Why Functions\n",
    "- Functions Definition\n",
    "- Positional and Keywords Arguments"
   ]
  },
  {
   "cell_type": "code",
   "execution_count": 1,
   "id": "0342a3a2-46e3-4ce3-a7d8-d78c5c1eea0f",
   "metadata": {},
   "outputs": [
    {
     "name": "stdout",
     "output_type": "stream",
     "text": [
      "The Number is Even.\n"
     ]
    }
   ],
   "source": [
    "def even_odd(n):\n",
    "    if n %2 ==0:\n",
    "        print(\"The Number is Even.\")\n",
    "    else:\n",
    "        print(\"The Number is Odd.\")\n",
    "even_odd(32)"
   ]
  },
  {
   "cell_type": "markdown",
   "id": "d9de1375-82c4-4c69-ab8b-73cbe9259283",
   "metadata": {},
   "source": [
    "**print vs return**"
   ]
  },
  {
   "cell_type": "code",
   "execution_count": 2,
   "id": "88b1ab1f-ba18-4ecf-9cd9-adbc8d436612",
   "metadata": {},
   "outputs": [
    {
     "name": "stdout",
     "output_type": "stream",
     "text": [
      "16\n",
      "None\n"
     ]
    }
   ],
   "source": [
    "# Function that uses print()\n",
    "def calculate_square_with_print(number):\n",
    "    square = number ** 2\n",
    "    print(square)\n",
    "\n",
    "# Using the function that uses print()\n",
    "val1 = calculate_square_with_print(4)\n",
    "print(val1)"
   ]
  },
  {
   "cell_type": "markdown",
   "id": "441b5ccf-3b93-4243-86fc-6f32e1c04ed1",
   "metadata": {},
   "source": [
    "The function does not return a value; it just prints the result"
   ]
  },
  {
   "cell_type": "code",
   "execution_count": 3,
   "id": "39ce7eba-413a-4dd7-a296-8b8f162f7434",
   "metadata": {},
   "outputs": [
    {
     "name": "stdout",
     "output_type": "stream",
     "text": [
      "16\n"
     ]
    }
   ],
   "source": [
    "# Function that uses return\n",
    "def calculate_square_with_return(number):\n",
    "    square = number ** 2\n",
    "    return square\n",
    "\n",
    "# Using the function that uses return\n",
    "result = calculate_square_with_return(4)\n",
    "print(result)"
   ]
  },
  {
   "cell_type": "markdown",
   "id": "79f6210b-6f92-41c0-a833-527d631ef327",
   "metadata": {},
   "source": [
    "The function returns a value, which we can store in the variable 'result' and use as needed"
   ]
  },
  {
   "cell_type": "markdown",
   "id": "30566083-a797-43d3-bbad-ab5a51197d1b",
   "metadata": {},
   "source": [
    "**Positional and Keywords**"
   ]
  },
  {
   "cell_type": "markdown",
   "id": "e1a81012-5070-4071-af64-2565ac09196f",
   "metadata": {},
   "source": [
    "A **positional argument** is an argument that is passed to a function based on its position in the argument list. A **Keyword argument** is passed to a function by specifying the parameter name and its corresponding value.\n"
   ]
  },
  {
   "cell_type": "code",
   "execution_count": 4,
   "id": "40359f4d-e61b-4ac2-bfe2-c57fd2a82dbe",
   "metadata": {},
   "outputs": [
    {
     "name": "stdout",
     "output_type": "stream",
     "text": [
      "My name is Amit and age is 28\n"
     ]
    }
   ],
   "source": [
    "#Positional arguments are passed in the order they are defined in the function signature\n",
    "\n",
    "def greet(name, age):\n",
    "    print(\"My name is {} and age is {}\".format(name,age))\n",
    "greet('Amit',28)    "
   ]
  },
  {
   "cell_type": "code",
   "execution_count": 5,
   "id": "893b15e4-fa4e-4626-979b-3570ea7a3334",
   "metadata": {},
   "outputs": [
    {
     "name": "stdout",
     "output_type": "stream",
     "text": [
      "My name is Amit and age is 28\n"
     ]
    }
   ],
   "source": [
    "#Keyword arguments are passed using parameter names\n",
    "def greet(name= 'Amit', age= 28):\n",
    "    print(\"My name is {} and age is {}\".format(name,age))\n",
    "greet()  "
   ]
  },
  {
   "cell_type": "code",
   "execution_count": 6,
   "id": "82c8e6f3-49de-42ff-a705-2e6b87b4a82f",
   "metadata": {},
   "outputs": [
    {
     "name": "stdout",
     "output_type": "stream",
     "text": [
      "My name is Amit and age is 28\n"
     ]
    }
   ],
   "source": [
    "# Mixing positional and keyword arguments, Positional arguments must come first, followed by keyword arguments\n",
    "def greet(name, age= 28):\n",
    "    print(\"My name is {} and age is {}\".format(name,age))\n",
    "greet('Amit')  "
   ]
  },
  {
   "cell_type": "markdown",
   "id": "b6283c76-19c1-4a1c-88b7-485376c0c8f5",
   "metadata": {},
   "source": [
    "##### *args and **kwargs\n",
    "\n",
    "Here, *args is Positional Arguments and **kwargs is Keywords Arguments."
   ]
  },
  {
   "cell_type": "code",
   "execution_count": 7,
   "id": "b7aa673b-00ff-4ab4-9694-06dc2ea74490",
   "metadata": {},
   "outputs": [
    {
     "name": "stdout",
     "output_type": "stream",
     "text": [
      "('Amit', 'Baghel')\n",
      "{'age': 28, 'dob': 1996}\n"
     ]
    }
   ],
   "source": [
    "#method1\n",
    "def hello(*args, **kwargs):\n",
    "    print(args)\n",
    "    print(kwargs)\n",
    "hello('Amit','Baghel', age = 28, dob = 1996)"
   ]
  },
  {
   "cell_type": "code",
   "execution_count": 8,
   "id": "61d5b6a9-4371-4406-a03b-51079e638326",
   "metadata": {},
   "outputs": [],
   "source": [
    "#method2\n",
    "lst = ['Amit', 'Baghel']\n",
    "dict_args = {'age':29,'dob':1996}"
   ]
  },
  {
   "cell_type": "code",
   "execution_count": 9,
   "id": "78b8db6a-3eb5-4136-b28b-e71ee45ab17a",
   "metadata": {},
   "outputs": [
    {
     "name": "stdout",
     "output_type": "stream",
     "text": [
      "('Amit', 'Baghel')\n",
      "{'age': 29, 'dob': 1996}\n"
     ]
    }
   ],
   "source": [
    "hello(*lst,**dict_args)"
   ]
  },
  {
   "cell_type": "code",
   "execution_count": 10,
   "id": "f9541873-f718-4c21-a2b4-909eff07b660",
   "metadata": {},
   "outputs": [
    {
     "data": {
      "text/plain": [
       "(30, 29)"
      ]
     },
     "execution_count": 10,
     "metadata": {},
     "output_type": "execute_result"
    }
   ],
   "source": [
    "#another example of function\n",
    "lst = [1,2,3,4,5,6,7,8,9,10]\n",
    "def evenoddsum(lst):\n",
    "    even_sum = 0\n",
    "    odd_sum = 0\n",
    "    for i in lst:\n",
    "        if i%2 ==0:\n",
    "            even_sum = even_sum+i\n",
    "        else:\n",
    "            odd_sum = even_sum+i\n",
    "    return even_sum, odd_sum\n",
    "evenoddsum(lst)"
   ]
  }
 ],
 "metadata": {
  "kernelspec": {
   "display_name": "Python 3 (ipykernel)",
   "language": "python",
   "name": "python3"
  },
  "language_info": {
   "codemirror_mode": {
    "name": "ipython",
    "version": 3
   },
   "file_extension": ".py",
   "mimetype": "text/x-python",
   "name": "python",
   "nbconvert_exporter": "python",
   "pygments_lexer": "ipython3",
   "version": "3.12.1"
  }
 },
 "nbformat": 4,
 "nbformat_minor": 5
}
