{
 "cells": [
  {
   "cell_type": "markdown",
   "id": "7a92ec29-6088-4a79-a534-6232f23444a5",
   "metadata": {},
   "source": [
    "Eval function evluate python expressions which are written as strings."
   ]
  },
  {
   "cell_type": "code",
   "execution_count": 1,
   "id": "c4426db7-f5dc-4c22-a688-6fbd95c535ce",
   "metadata": {},
   "outputs": [
    {
     "data": {
      "text/plain": [
       "25"
      ]
     },
     "execution_count": 1,
     "metadata": {},
     "output_type": "execute_result"
    }
   ],
   "source": [
    "5*5"
   ]
  },
  {
   "cell_type": "code",
   "execution_count": 2,
   "id": "a3a0f9c4-4f1b-498e-953c-154296cb77e2",
   "metadata": {},
   "outputs": [
    {
     "data": {
      "text/plain": [
       "28.5"
      ]
     },
     "execution_count": 2,
     "metadata": {},
     "output_type": "execute_result"
    }
   ],
   "source": [
    "eval(\"5*5+7/2\")"
   ]
  },
  {
   "cell_type": "markdown",
   "id": "d30a172c-7225-417f-8718-cf4290a9f100",
   "metadata": {},
   "source": [
    "**How does Eval work**\n",
    "1. Parse Python Expression\n",
    "2. Compile into a byte code\n",
    "3. Evaluate the Python expression\n",
    "4. It will return the result\n",
    "\n"
   ]
  },
  {
   "cell_type": "code",
   "execution_count": 3,
   "id": "2c23acd2-3619-4ed7-9852-9e5dcfe5f2e2",
   "metadata": {},
   "outputs": [],
   "source": [
    "var = compile(\"5*5\", \"<string>\", \"eval\")"
   ]
  },
  {
   "cell_type": "code",
   "execution_count": 4,
   "id": "c43212f9-a342-40b1-b086-07cfe0baf35c",
   "metadata": {},
   "outputs": [
    {
     "data": {
      "text/plain": [
       "<code object <module> at 0x1084524c0, file \"<string>\", line 1>"
      ]
     },
     "execution_count": 4,
     "metadata": {},
     "output_type": "execute_result"
    }
   ],
   "source": [
    "var"
   ]
  },
  {
   "cell_type": "code",
   "execution_count": 5,
   "id": "37a6d04f-bf47-4149-aa60-65ac8e56c7c6",
   "metadata": {},
   "outputs": [
    {
     "data": {
      "text/plain": [
       "25"
      ]
     },
     "execution_count": 5,
     "metadata": {},
     "output_type": "execute_result"
    }
   ],
   "source": [
    "eval(var)"
   ]
  },
  {
   "cell_type": "code",
   "execution_count": 6,
   "id": "0b9cfb9e-df9e-416c-af86-45391aa97eec",
   "metadata": {},
   "outputs": [
    {
     "data": {
      "text/plain": [
       "160"
      ]
     },
     "execution_count": 6,
     "metadata": {},
     "output_type": "execute_result"
    }
   ],
   "source": [
    "#Globals\n",
    "eval(\"x+50+x**2\",{\"x\":10})"
   ]
  },
  {
   "cell_type": "code",
   "execution_count": 7,
   "id": "48d60a9d-58bb-4386-bb0b-88c56f72f913",
   "metadata": {},
   "outputs": [
    {
     "data": {
      "text/plain": [
       "300"
      ]
     },
     "execution_count": 7,
     "metadata": {},
     "output_type": "execute_result"
    }
   ],
   "source": [
    "x = 100\n",
    "z = 100\n",
    "eval(\"x+z+w\",{\"x\" :x,\"z\":z, 'w':100})"
   ]
  },
  {
   "cell_type": "markdown",
   "id": "5884185f-2da1-41b4-8e42-8ec502ed8722",
   "metadata": {},
   "source": [
    "In general, using eval() with untrusted input can be risky because it can execute arbitrary code. It is recommended to use alternatives, such as safe libraries for parsing and evaluating expressions, if the input is coming from untrusted sources."
   ]
  }
 ],
 "metadata": {
  "kernelspec": {
   "display_name": "Python 3 (ipykernel)",
   "language": "python",
   "name": "python3"
  },
  "language_info": {
   "codemirror_mode": {
    "name": "ipython",
    "version": 3
   },
   "file_extension": ".py",
   "mimetype": "text/x-python",
   "name": "python",
   "nbconvert_exporter": "python",
   "pygments_lexer": "ipython3",
   "version": "3.12.1"
  }
 },
 "nbformat": 4,
 "nbformat_minor": 5
}
