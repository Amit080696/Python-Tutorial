{
 "cells": [
  {
   "cell_type": "markdown",
   "id": "db59e69c-ef47-4652-806c-688f68dcf571",
   "metadata": {},
   "source": [
    "Class Variables:\n",
    "\n",
    "- Class Variables are variables that are shared across all instances of a class. They are defined inside the class but outside any methods.\n",
    "- Changes made to a class variable are visible to all instances of the class.\n",
    "- Class variables are used for properties that are common to all instances.\n",
    "\n",
    "Class Methods:\n",
    "\n",
    "- Class Methods are methods that are bound to the class, not to an instance of the class.\n",
    "- They can be called on the class itself or on an instance of the class.\n",
    "- Class methods receive the class as the first argument, typically named cls.\n",
    "- Class methods are marked with the @classmethod decorator."
   ]
  },
  {
   "cell_type": "code",
   "execution_count": 1,
   "id": "886c28de-e7d0-477a-a26b-83a7f41c9bac",
   "metadata": {},
   "outputs": [],
   "source": [
    "class Car:\n",
    "    base_price = 100000 #class variable\n",
    "    \n",
    "    def __init__(self, window, door, power):\n",
    "        self.windows = window  \n",
    "        self.doors = door \n",
    "        self.power = power\n",
    "        \n",
    "    def what_best_price(self):  # method inside the class(Car)\n",
    "        return \"This base price is {}\".format(self.base_price)\n",
    "    @classmethod\n",
    "    def revise_base_price(cls, inflation):\n",
    "        cls.base_price = cls.base_price+(cls.base_price * inflation)"
   ]
  },
  {
   "cell_type": "code",
   "execution_count": 2,
   "id": "199a927c-a383-4756-a399-b2884f893ced",
   "metadata": {},
   "outputs": [],
   "source": [
    "Car.revise_base_price(0.10)"
   ]
  },
  {
   "cell_type": "code",
   "execution_count": 3,
   "id": "b0f91627-586e-4db4-8cec-6359dfe022a4",
   "metadata": {},
   "outputs": [
    {
     "data": {
      "text/plain": [
       "110000.0"
      ]
     },
     "execution_count": 3,
     "metadata": {},
     "output_type": "execute_result"
    }
   ],
   "source": [
    "Car.base_price"
   ]
  },
  {
   "cell_type": "code",
   "execution_count": 4,
   "id": "98f0d823-f38c-4ee8-aa6e-b78299f9ce17",
   "metadata": {},
   "outputs": [],
   "source": [
    "car1 = Car(4,5,2000)"
   ]
  },
  {
   "cell_type": "code",
   "execution_count": 5,
   "id": "82634eb4-57ed-4f59-b9c5-612a58c6ef74",
   "metadata": {},
   "outputs": [
    {
     "data": {
      "text/plain": [
       "110000.0"
      ]
     },
     "execution_count": 5,
     "metadata": {},
     "output_type": "execute_result"
    }
   ],
   "source": [
    "car1.base_price"
   ]
  }
 ],
 "metadata": {
  "kernelspec": {
   "display_name": "Python 3 (ipykernel)",
   "language": "python",
   "name": "python3"
  },
  "language_info": {
   "codemirror_mode": {
    "name": "ipython",
    "version": 3
   },
   "file_extension": ".py",
   "mimetype": "text/x-python",
   "name": "python",
   "nbconvert_exporter": "python",
   "pygments_lexer": "ipython3",
   "version": "3.12.1"
  }
 },
 "nbformat": 4,
 "nbformat_minor": 5
}
