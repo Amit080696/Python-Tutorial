{
 "cells": [
  {
   "cell_type": "markdown",
   "id": "f3b30382-7db1-4d23-abda-779b09e1483c",
   "metadata": {},
   "source": [
    "## Python Data Structures and Boolean"
   ]
  },
  {
   "cell_type": "markdown",
   "id": "e0061869-e785-40b3-87b8-5d24ed7da0c8",
   "metadata": {},
   "source": [
    "- **Boolean**: A data type representing truth values, either True or False.\n",
    "\n",
    "- **Boolean and Logical Operators**: Special symbols or words used to perform logical operations on Boolean values. Examples include \"and\", \"or\", and \"not\".\n",
    "\n",
    "- **Lists**: An ordered collection of items enclosed in square brackets ([]). Lists can contain elements of different data types and can be modified (mutable).\n",
    "\n",
    "- **Comparison operators**: Symbols used to compare values. Examples include \"==\", \">\", \"<\", \">=\", \"<=\", and \"!=\".\n",
    "\n",
    "- **Dictionaries**: A collection of key-value pairs enclosed in curly braces ({}) where each key is associated with a value. Keys must be unique and immutable, while values can be of any data type (mutable).\n",
    "\n",
    "- **Tuples**: An ordered collection of items enclosed in parentheses (()). Tuples are similar to lists but are immutable, meaning their elements cannot be changed after creation.\n",
    "\n",
    "- **Sets**: An unordered collection of unique items enclosed in curly braces ({}). Sets do not allow duplicate elements, and they are mutable."
   ]
  },
  {
   "cell_type": "markdown",
   "id": "21a1001d-a053-4f7c-be1c-7e5f6ec34cff",
   "metadata": {},
   "source": [
    "### Boolean Variables"
   ]
  },
  {
   "cell_type": "markdown",
   "id": "e6a58ee4-5fe7-44db-bb33-bf5526bbf3d2",
   "metadata": {},
   "source": [
    "Boolean values in Python are represented by the two constant objects `True` and `False`. They are used to indicate truth values, where `True` represents true and `False` represents false.\n",
    "\n",
    "In a numeric context, such as when used as the argument to an arithmetic operator, `True` behaves like the integer `1`, and `False` behaves like the integer `0`.\n",
    "\n",
    "You can use the built-in function `bool()` to cast any value to its corresponding Boolean value, if the value can be interpreted as a truth value.\n",
    "\n",
    "Boolean values are written as `True` and `False` respectively."
   ]
  },
  {
   "cell_type": "code",
   "execution_count": 1,
   "id": "0f8c436e-784b-49da-80b8-bd516f7a67c3",
   "metadata": {},
   "outputs": [
    {
     "data": {
      "text/plain": [
       "True"
      ]
     },
     "execution_count": 1,
     "metadata": {},
     "output_type": "execute_result"
    }
   ],
   "source": [
    "True and True"
   ]
  },
  {
   "cell_type": "code",
   "execution_count": 2,
   "id": "5e0ec2bc-673f-4720-a36b-fcfba07efb6b",
   "metadata": {},
   "outputs": [
    {
     "data": {
      "text/plain": [
       "False"
      ]
     },
     "execution_count": 2,
     "metadata": {},
     "output_type": "execute_result"
    }
   ],
   "source": [
    "True and False"
   ]
  },
  {
   "cell_type": "code",
   "execution_count": 3,
   "id": "59dec1ae-3f91-48d3-8653-6ec726df0a57",
   "metadata": {},
   "outputs": [
    {
     "data": {
      "text/plain": [
       "True"
      ]
     },
     "execution_count": 3,
     "metadata": {},
     "output_type": "execute_result"
    }
   ],
   "source": [
    "True or False"
   ]
  },
  {
   "cell_type": "code",
   "execution_count": 4,
   "id": "4a332248-f4bf-424b-bc1c-0facec0e3454",
   "metadata": {},
   "outputs": [
    {
     "name": "stdout",
     "output_type": "stream",
     "text": [
      "True False\n"
     ]
    }
   ],
   "source": [
    "print(True, False)"
   ]
  },
  {
   "cell_type": "code",
   "execution_count": 5,
   "id": "1cbbe5ea-cc8f-411a-b61e-dc1003448d0d",
   "metadata": {},
   "outputs": [
    {
     "data": {
      "text/plain": [
       "bool"
      ]
     },
     "execution_count": 5,
     "metadata": {},
     "output_type": "execute_result"
    }
   ],
   "source": [
    "type(True)"
   ]
  },
  {
   "cell_type": "code",
   "execution_count": 6,
   "id": "31d4edbd-b7c6-407b-9f38-115aa58eab75",
   "metadata": {},
   "outputs": [
    {
     "data": {
      "text/plain": [
       "bool"
      ]
     },
     "execution_count": 6,
     "metadata": {},
     "output_type": "execute_result"
    }
   ],
   "source": [
    "type(False)"
   ]
  },
  {
   "cell_type": "code",
   "execution_count": 7,
   "id": "cc5b34b0-338d-42db-80ea-b37246ab062d",
   "metadata": {},
   "outputs": [
    {
     "name": "stdout",
     "output_type": "stream",
     "text": [
      "False\n",
      "True\n",
      "False\n"
     ]
    }
   ],
   "source": [
    "x = True\n",
    "y = False\n",
    "\n",
    "print(x and y)\n",
    "print(x or y)  \n",
    "print(not x)    "
   ]
  },
  {
   "cell_type": "code",
   "execution_count": 8,
   "id": "b93ab189-d231-4586-8595-0cc982faa738",
   "metadata": {},
   "outputs": [
    {
     "name": "stdout",
     "output_type": "stream",
     "text": [
      "False\n",
      "False\n"
     ]
    }
   ],
   "source": [
    "temperature = 25\n",
    "is_hot = temperature > 30\n",
    "is_cold = temperature < 10\n",
    "\n",
    "print(is_hot)   \n",
    "print(is_cold) "
   ]
  },
  {
   "cell_type": "code",
   "execution_count": 9,
   "id": "f5010211-07dc-4dcc-b5c9-594c4a6a2e93",
   "metadata": {},
   "outputs": [
    {
     "name": "stdout",
     "output_type": "stream",
     "text": [
      "Remember to bring an umbrella!\n"
     ]
    }
   ],
   "source": [
    "is_raining = True\n",
    "\n",
    "if is_raining:\n",
    "    print(\"Remember to bring an umbrella!\")\n",
    "else:\n",
    "    print(\"No need for an umbrella today.\")"
   ]
  },
  {
   "cell_type": "code",
   "execution_count": 10,
   "id": "0f9ebb06-a9a9-4770-8a5e-9011b244573f",
   "metadata": {},
   "outputs": [
    {
     "name": "stdout",
     "output_type": "stream",
     "text": [
      "True\n",
      "False\n"
     ]
    }
   ],
   "source": [
    "def is_even(number):\n",
    "    return number % 2 == 0\n",
    "\n",
    "print(is_even(4)) \n",
    "print(is_even(3))   "
   ]
  },
  {
   "cell_type": "code",
   "execution_count": 11,
   "id": "fd185c31-eb34-4686-8e93-106741800802",
   "metadata": {},
   "outputs": [],
   "source": [
    "str_exp = 'Hello NCR'\n",
    "my_str ='Amit'"
   ]
  },
  {
   "cell_type": "code",
   "execution_count": 12,
   "id": "ae5bef9d-5c59-4ae8-8989-0a447dbe7836",
   "metadata": {},
   "outputs": [
    {
     "data": {
      "text/plain": [
       "True"
      ]
     },
     "execution_count": 12,
     "metadata": {},
     "output_type": "execute_result"
    }
   ],
   "source": [
    "my_str.isalpha() or str_exp.isnum()"
   ]
  },
  {
   "cell_type": "code",
   "execution_count": 13,
   "id": "8355e1a4-2861-4f23-9524-023825f7908d",
   "metadata": {},
   "outputs": [],
   "source": [
    "mystr ='Amit123'"
   ]
  },
  {
   "cell_type": "code",
   "execution_count": 14,
   "id": "d451045b-d5e6-49b7-9edf-8eb5dd88c70e",
   "metadata": {},
   "outputs": [
    {
     "name": "stdout",
     "output_type": "stream",
     "text": [
      "True\n",
      "False\n",
      "False\n",
      "True\n",
      "False\n",
      "False\n",
      "False\n",
      "False\n",
      "True\n"
     ]
    }
   ],
   "source": [
    "print(mystr.isalnum())  # check if all char are numbers\n",
    "print(mystr.isalpha()) # check if all char in the string are alphabetic\n",
    "print(mystr.isdigit()) # test if string contains digits\n",
    "print(mystr.istitle()) # test if string contains title words\n",
    "print(mystr.isupper()) # test if string contains upper case\n",
    "print(mystr.islower()) # test if string contains lower case\n",
    "print(mystr.isspace()) # test if string contains spaces\n",
    "print(mystr.endswith('t')) # test if string endswith a L\n",
    "print(mystr.startswith('A')) # test if string startswith a A"
   ]
  },
  {
   "cell_type": "markdown",
   "id": "452ad0db-c113-4563-bc94-38f00e053431",
   "metadata": {},
   "source": [
    "### Lists"
   ]
  },
  {
   "cell_type": "markdown",
   "id": "57e4f623-a380-48a6-9018-4ef2f04b767f",
   "metadata": {},
   "source": [
    "A list in Python is like a container where you can put different things (like numbers or words) in a particular order. It's like a shopping list, where you can add or remove items anytime you want. Just like how words are put in quotes, items in a list are put inside square brackets []."
   ]
  },
  {
   "cell_type": "code",
   "execution_count": 15,
   "id": "d4e07b84-331e-4bcd-a883-a64c231e59ee",
   "metadata": {},
   "outputs": [],
   "source": [
    "lst_example =[]"
   ]
  },
  {
   "cell_type": "code",
   "execution_count": 16,
   "id": "49ba0965-6336-4c65-ba2b-e56b7ba0633d",
   "metadata": {},
   "outputs": [
    {
     "data": {
      "text/plain": [
       "list"
      ]
     },
     "execution_count": 16,
     "metadata": {},
     "output_type": "execute_result"
    }
   ],
   "source": [
    "type(lst_example)"
   ]
  },
  {
   "cell_type": "code",
   "execution_count": 17,
   "id": "7956d9c0-25e0-4c3f-b5be-190034790065",
   "metadata": {},
   "outputs": [],
   "source": [
    "lst = list()"
   ]
  },
  {
   "cell_type": "code",
   "execution_count": 18,
   "id": "0e9f4ffe-c55d-4c8a-8b01-aed9b62b2727",
   "metadata": {},
   "outputs": [
    {
     "data": {
      "text/plain": [
       "list"
      ]
     },
     "execution_count": 18,
     "metadata": {},
     "output_type": "execute_result"
    }
   ],
   "source": [
    "type(lst)"
   ]
  },
  {
   "cell_type": "code",
   "execution_count": 19,
   "id": "5058f2e9-b7ec-45d4-ae8f-52f16d570b44",
   "metadata": {},
   "outputs": [],
   "source": [
    "lst = ['Math', 'Physics', 10, 45, 40]"
   ]
  },
  {
   "cell_type": "code",
   "execution_count": 20,
   "id": "b204f6bc-0cb4-4a1f-9746-a54ec4c1f09f",
   "metadata": {},
   "outputs": [
    {
     "data": {
      "text/plain": [
       "5"
      ]
     },
     "execution_count": 20,
     "metadata": {},
     "output_type": "execute_result"
    }
   ],
   "source": [
    "len(lst)"
   ]
  },
  {
   "cell_type": "markdown",
   "id": "9e1dd6b1-b185-4ac4-afe3-d5bce0ffdda5",
   "metadata": {},
   "source": [
    "#### Append:"
   ]
  },
  {
   "cell_type": "markdown",
   "id": "0386c2fe-0586-4023-85fc-3a127b19012e",
   "metadata": {},
   "source": [
    "Append is used to add elements in the list."
   ]
  },
  {
   "cell_type": "code",
   "execution_count": 21,
   "id": "7b96dd6b-4044-414e-8842-ac078b279277",
   "metadata": {},
   "outputs": [],
   "source": [
    "my_list = [1, 2, 3]"
   ]
  },
  {
   "cell_type": "markdown",
   "id": "cefd6fed-df74-4175-bb9a-b16e587aed64",
   "metadata": {},
   "source": [
    "Appending a single element to the end of the list:"
   ]
  },
  {
   "cell_type": "code",
   "execution_count": 22,
   "id": "93f9cd94-3ecf-4508-b19a-7f44a84ae0f9",
   "metadata": {},
   "outputs": [
    {
     "data": {
      "text/plain": [
       "[1, 2, 3, 5]"
      ]
     },
     "execution_count": 22,
     "metadata": {},
     "output_type": "execute_result"
    }
   ],
   "source": [
    "my_list.append(5)\n",
    "my_list"
   ]
  },
  {
   "cell_type": "markdown",
   "id": "f121aed2-572e-4631-8577-3204b2fd3281",
   "metadata": {},
   "source": [
    "Appending a list to another list as a single element:"
   ]
  },
  {
   "cell_type": "code",
   "execution_count": 23,
   "id": "33b2c59a-42b7-4e74-bc8b-0f64c676c9e9",
   "metadata": {},
   "outputs": [
    {
     "data": {
      "text/plain": [
       "[1, 2, 3, 5, [4, 5]]"
      ]
     },
     "execution_count": 23,
     "metadata": {},
     "output_type": "execute_result"
    }
   ],
   "source": [
    "my_list.append([4, 5])\n",
    "my_list"
   ]
  },
  {
   "cell_type": "markdown",
   "id": "e0e6f421-404e-402f-b467-cf5f35e7e450",
   "metadata": {},
   "source": [
    "##### Indexing in List: "
   ]
  },
  {
   "cell_type": "code",
   "execution_count": 24,
   "id": "6b99e84b-592e-4db1-82aa-bc67d1bc3776",
   "metadata": {},
   "outputs": [],
   "source": [
    "my_list = [10, 20, 30, 40, 50]"
   ]
  },
  {
   "cell_type": "markdown",
   "id": "b746cb36-116e-48b2-b46d-e70dbd840568",
   "metadata": {},
   "source": [
    "Accessing the first item in the list:"
   ]
  },
  {
   "cell_type": "code",
   "execution_count": 25,
   "id": "92966d34-d341-4582-bcf0-97f7cba3aed0",
   "metadata": {},
   "outputs": [
    {
     "data": {
      "text/plain": [
       "10"
      ]
     },
     "execution_count": 25,
     "metadata": {},
     "output_type": "execute_result"
    }
   ],
   "source": [
    "my_list[0]"
   ]
  },
  {
   "cell_type": "markdown",
   "id": "176a16f8-7783-4afb-931f-f35bdce49bbc",
   "metadata": {},
   "source": [
    "Accessing the third item in the list:"
   ]
  },
  {
   "cell_type": "code",
   "execution_count": 26,
   "id": "779dc0ac-2ab2-4d38-ad33-8ee76b6f1a34",
   "metadata": {},
   "outputs": [
    {
     "data": {
      "text/plain": [
       "30"
      ]
     },
     "execution_count": 26,
     "metadata": {},
     "output_type": "execute_result"
    }
   ],
   "source": [
    "my_list[2]"
   ]
  },
  {
   "cell_type": "markdown",
   "id": "1e4d75fa-1e54-4308-8694-07b51c3637b9",
   "metadata": {},
   "source": [
    "Accessing the last item in the list using negative indexing:"
   ]
  },
  {
   "cell_type": "code",
   "execution_count": 27,
   "id": "9d055016-4b3b-48e9-b1dd-a4dd2b6e1784",
   "metadata": {},
   "outputs": [
    {
     "data": {
      "text/plain": [
       "50"
      ]
     },
     "execution_count": 27,
     "metadata": {},
     "output_type": "execute_result"
    }
   ],
   "source": [
    "my_list[-1]"
   ]
  },
  {
   "cell_type": "markdown",
   "id": "c591c897-d74e-4ac3-86f4-84f29df59eef",
   "metadata": {},
   "source": [
    "Updating a value in the list using indexing:"
   ]
  },
  {
   "cell_type": "code",
   "execution_count": 28,
   "id": "4a4d7b7b-e7ad-46f7-a239-a297107d5e98",
   "metadata": {},
   "outputs": [
    {
     "data": {
      "text/plain": [
       "[10, 20, 100, 40, 50]"
      ]
     },
     "execution_count": 28,
     "metadata": {},
     "output_type": "execute_result"
    }
   ],
   "source": [
    "my_list[2] =100\n",
    "my_list"
   ]
  },
  {
   "cell_type": "markdown",
   "id": "0e6ea48d-d695-4d09-8125-58d099942390",
   "metadata": {},
   "source": [
    "Accessing a sublist (slicing):"
   ]
  },
  {
   "cell_type": "code",
   "execution_count": 29,
   "id": "afb50b68-28dd-4020-8898-80c9eb440bca",
   "metadata": {},
   "outputs": [
    {
     "data": {
      "text/plain": [
       "[20, 100, 40]"
      ]
     },
     "execution_count": 29,
     "metadata": {},
     "output_type": "execute_result"
    }
   ],
   "source": [
    "my_list[1:4]"
   ]
  },
  {
   "cell_type": "markdown",
   "id": "e2d0c48b-fc0b-4169-8c5a-0f8db64dc52c",
   "metadata": {},
   "source": [
    "##### Insert:"
   ]
  },
  {
   "cell_type": "markdown",
   "id": "797bd129-a055-41dd-94e4-76a886a30677",
   "metadata": {},
   "source": [
    "Insert in a specific order."
   ]
  },
  {
   "cell_type": "code",
   "execution_count": 30,
   "id": "5a50895e-db27-4735-98dd-a9eac99cf7a9",
   "metadata": {},
   "outputs": [],
   "source": [
    "my_list = [1, 2, 4]"
   ]
  },
  {
   "cell_type": "markdown",
   "id": "34f55e55-8f4b-4314-a702-af7ae59efac2",
   "metadata": {},
   "source": [
    "Inserting an element at a specific index:"
   ]
  },
  {
   "cell_type": "code",
   "execution_count": 31,
   "id": "6cffa27e-cde7-4474-a917-9ef77fa5caef",
   "metadata": {},
   "outputs": [
    {
     "data": {
      "text/plain": [
       "[1, 2, 'Amit', 4]"
      ]
     },
     "execution_count": 31,
     "metadata": {},
     "output_type": "execute_result"
    }
   ],
   "source": [
    "my_list.insert(2, 'Amit')\n",
    "my_list"
   ]
  },
  {
   "cell_type": "markdown",
   "id": "c0a9e092-c321-4b50-bf41-f57251a0c41b",
   "metadata": {},
   "source": [
    "Inserting an element at the end of the list:"
   ]
  },
  {
   "cell_type": "code",
   "execution_count": 32,
   "id": "7cfc0d30-88a5-432a-9e7b-0f92098d01a7",
   "metadata": {},
   "outputs": [
    {
     "data": {
      "text/plain": [
       "[1, 2, 'Amit', 4, 60]"
      ]
     },
     "execution_count": 32,
     "metadata": {},
     "output_type": "execute_result"
    }
   ],
   "source": [
    "my_list.insert(len(my_list),60)\n",
    "my_list"
   ]
  },
  {
   "cell_type": "markdown",
   "id": "faf2001d-c9da-4c61-8d50-6694fcfa7dc0",
   "metadata": {},
   "source": [
    "Inserting multiple elements at once:"
   ]
  },
  {
   "cell_type": "code",
   "execution_count": 33,
   "id": "781c9c4f-4cd7-4123-80eb-a308ddb51523",
   "metadata": {},
   "outputs": [
    {
     "data": {
      "text/plain": [
       "[1, 2, 'Amit', [40, 50], 4, 60]"
      ]
     },
     "execution_count": 33,
     "metadata": {},
     "output_type": "execute_result"
    }
   ],
   "source": [
    "my_list.insert(3, [40,50])\n",
    "my_list"
   ]
  },
  {
   "cell_type": "markdown",
   "id": "ff7b9bff-0ca7-4d1b-8b01-ef33b10684fc",
   "metadata": {},
   "source": [
    "##### Extend"
   ]
  },
  {
   "cell_type": "markdown",
   "id": "74f94e83-78e4-47b3-89b6-f9936d496a10",
   "metadata": {},
   "source": [
    "Extending a list with elements from another list:"
   ]
  },
  {
   "cell_type": "code",
   "execution_count": 34,
   "id": "d3fca148-9f6f-4a28-b4c3-a9ec9a3cdaf7",
   "metadata": {},
   "outputs": [
    {
     "data": {
      "text/plain": [
       "[1, 2, 3, 4, 5, 6]"
      ]
     },
     "execution_count": 34,
     "metadata": {},
     "output_type": "execute_result"
    }
   ],
   "source": [
    "my_list = [1, 2, 3]\n",
    "additional_list = [4, 5, 6]\n",
    "my_list.extend(additional_list)\n",
    "my_list"
   ]
  },
  {
   "cell_type": "markdown",
   "id": "1a5fbdff-e263-4850-84c7-76a87ee75fcc",
   "metadata": {},
   "source": [
    "Extending a list with elements from a range:\n"
   ]
  },
  {
   "cell_type": "code",
   "execution_count": 35,
   "id": "afc1dd1d-f09a-4150-b3a2-229b2fd278ab",
   "metadata": {},
   "outputs": [
    {
     "data": {
      "text/plain": [
       "[1, 2, 3, 4, 5, 6, 2, 3, 4]"
      ]
     },
     "execution_count": 35,
     "metadata": {},
     "output_type": "execute_result"
    }
   ],
   "source": [
    "my_list.extend(range(2,5))\n",
    "my_list"
   ]
  },
  {
   "cell_type": "markdown",
   "id": "6c56d380-b834-4c69-befb-902546e06616",
   "metadata": {},
   "source": [
    "Extending a list with elements from a string:"
   ]
  },
  {
   "cell_type": "code",
   "execution_count": 36,
   "id": "1c842b5e-5630-4722-a357-e7d90e3fa210",
   "metadata": {},
   "outputs": [
    {
     "data": {
      "text/plain": [
       "[1, 2, 3, 4, 5, 6, 2, 3, 4, 'H', 'e', 'l', 'l', 'o']"
      ]
     },
     "execution_count": 36,
     "metadata": {},
     "output_type": "execute_result"
    }
   ],
   "source": [
    "my_list.extend(\"Hello\")\n",
    "my_list"
   ]
  },
  {
   "cell_type": "markdown",
   "id": "1b35ba6e-1cd5-4f2b-a4f8-d109b3544eba",
   "metadata": {},
   "source": [
    "Extending a list with elements from another list multiple times:"
   ]
  },
  {
   "cell_type": "code",
   "execution_count": 37,
   "id": "1dc85e36-ce46-4e42-b286-479309d2b8c2",
   "metadata": {},
   "outputs": [
    {
     "data": {
      "text/plain": [
       "[1, 2, 3, 4, 5, 6, 2, 3, 4, 'H', 'e', 'l', 'l', 'o', 4, 5, 6, 4, 5, 6]"
      ]
     },
     "execution_count": 37,
     "metadata": {},
     "output_type": "execute_result"
    }
   ],
   "source": [
    "my_list.extend(additional_list *2)\n",
    "my_list"
   ]
  },
  {
   "cell_type": "markdown",
   "id": "13156e94-8879-439c-9363-6b2771c87938",
   "metadata": {},
   "source": [
    "#### Remove List Items"
   ]
  },
  {
   "cell_type": "markdown",
   "id": "cbbcb5a9-f093-416b-88bc-7835e095a459",
   "metadata": {},
   "source": [
    "**Remove Specified Item**\n",
    "\n",
    "The remove() method removes the specified item."
   ]
  },
  {
   "cell_type": "code",
   "execution_count": 38,
   "id": "c57b1122-dff7-40c8-a36c-eaf559f198eb",
   "metadata": {},
   "outputs": [
    {
     "data": {
      "text/plain": [
       "['Hindi', 'Math', 'Sanskrit']"
      ]
     },
     "execution_count": 38,
     "metadata": {},
     "output_type": "execute_result"
    }
   ],
   "source": [
    "my_list = [\"Hindi\", \"English\", \"Math\",\"Sanskrit\"]\n",
    "my_list.remove('English')\n",
    "my_list"
   ]
  },
  {
   "cell_type": "markdown",
   "id": "6c91caf3-1613-4a90-8879-f90eb7b93e30",
   "metadata": {},
   "source": [
    "If there are more than one item with the specified value, the remove() method removes the first occurance."
   ]
  },
  {
   "cell_type": "code",
   "execution_count": 39,
   "id": "83faee3d-abdd-44e1-816d-0bf43157ec45",
   "metadata": {},
   "outputs": [
    {
     "data": {
      "text/plain": [
       "['Hindi', 'Math', 'Sanskrit', 'English']"
      ]
     },
     "execution_count": 39,
     "metadata": {},
     "output_type": "execute_result"
    }
   ],
   "source": [
    "my_list = [\"Hindi\", \"English\", \"Math\",\"Sanskrit\", \"English\"]\n",
    "my_list.remove('English')\n",
    "my_list"
   ]
  },
  {
   "cell_type": "markdown",
   "id": "bba8d8c0-d268-4f7f-839a-3bfc4708f319",
   "metadata": {},
   "source": [
    "**Remove Specified Index**\n",
    "\n",
    "The pop() method removes the specified index."
   ]
  },
  {
   "cell_type": "code",
   "execution_count": 40,
   "id": "91907d33-8335-4c62-87eb-6e9f52deae42",
   "metadata": {},
   "outputs": [
    {
     "data": {
      "text/plain": [
       "['Hindi', 'Math', 'Sanskrit']"
      ]
     },
     "execution_count": 40,
     "metadata": {},
     "output_type": "execute_result"
    }
   ],
   "source": [
    "my_list = [\"Hindi\", \"English\", \"Math\",\"Sanskrit\"]\n",
    "my_list.pop(1)\n",
    "my_list"
   ]
  },
  {
   "cell_type": "markdown",
   "id": "1d6ca692-86a3-43d0-9f97-09c630e476c3",
   "metadata": {},
   "source": [
    "If you do not specify the index, the pop() method removes the last item."
   ]
  },
  {
   "cell_type": "code",
   "execution_count": 41,
   "id": "3775eac0-2694-47ed-9831-8ff8ef682fdd",
   "metadata": {},
   "outputs": [
    {
     "data": {
      "text/plain": [
       "['Hindi', 'English', 'Math']"
      ]
     },
     "execution_count": 41,
     "metadata": {},
     "output_type": "execute_result"
    }
   ],
   "source": [
    "my_list = [\"Hindi\", \"English\", \"Math\",\"Sanskrit\"]\n",
    "my_list.pop()\n",
    "my_list"
   ]
  },
  {
   "cell_type": "markdown",
   "id": "28f4a1f2-409c-4752-b984-0cf567d40b03",
   "metadata": {},
   "source": [
    "The **del** keyword also removes the specified index"
   ]
  },
  {
   "cell_type": "markdown",
   "id": "7e17529c-483d-4304-a59e-1329e604d527",
   "metadata": {},
   "source": [
    "Remove the first item"
   ]
  },
  {
   "cell_type": "code",
   "execution_count": 42,
   "id": "9e7cd844-73a6-4738-a960-7bc9d96f1039",
   "metadata": {},
   "outputs": [
    {
     "name": "stdout",
     "output_type": "stream",
     "text": [
      "['English', 'Math', 'Sanskrit']\n"
     ]
    }
   ],
   "source": [
    "my_list = [\"Hindi\", \"English\", \"Math\",\"Sanskrit\"]\n",
    "del my_list[0]\n",
    "print(my_list)"
   ]
  },
  {
   "cell_type": "markdown",
   "id": "942f98c4-e5e1-48de-99ec-ffc8b3bf0f93",
   "metadata": {},
   "source": [
    "The del keyword can also delete the list completely."
   ]
  },
  {
   "cell_type": "code",
   "execution_count": 43,
   "id": "f618577e-be76-4385-92f2-39561f43a289",
   "metadata": {},
   "outputs": [],
   "source": [
    "my_list = [\"Hindi\", \"English\", \"Math\",\"Sanskrit\"]\n",
    "del my_list"
   ]
  },
  {
   "cell_type": "markdown",
   "id": "559a2bba-ef50-4889-a2ce-33a630f58d6d",
   "metadata": {},
   "source": [
    "**Clear the List**\n",
    "\n",
    "The **clear()** method empties the list. The list still remains, but it has no content."
   ]
  },
  {
   "cell_type": "code",
   "execution_count": 44,
   "id": "715d409c-5242-4ea8-bfac-854378a6af2a",
   "metadata": {},
   "outputs": [
    {
     "name": "stdout",
     "output_type": "stream",
     "text": [
      "[]\n"
     ]
    }
   ],
   "source": [
    "my_list = [\"Hindi\", \"English\", \"Math\",\"Sanskrit\"]\n",
    "my_list.clear()\n",
    "print(my_list)"
   ]
  },
  {
   "cell_type": "markdown",
   "id": "220b66cc-1399-4ea2-92b2-31c5ee68b912",
   "metadata": {},
   "source": [
    "### Sets"
   ]
  },
  {
   "cell_type": "markdown",
   "id": "358983b1-0892-419b-add4-ac59fc66ecf2",
   "metadata": {},
   "source": [
    "A set is an unordered collection of data types that is iterable, mutable, and has no duplicate elements. \n",
    "\n",
    "Python's `set` class represents the mathematical notation of a set. This is based on a data structure known as a hash table.\n",
    "\n",
    "\n",
    "**Note: Set does not support indexing.**"
   ]
  },
  {
   "cell_type": "code",
   "execution_count": 45,
   "id": "2b2dbe7c-1c41-4711-8538-f628e8b881e8",
   "metadata": {},
   "outputs": [
    {
     "name": "stdout",
     "output_type": "stream",
     "text": [
      "set()\n",
      "<class 'set'>\n"
     ]
    }
   ],
   "source": [
    "set_var = set()\n",
    "print(set_var)\n",
    "print(type(set_var))"
   ]
  },
  {
   "cell_type": "markdown",
   "id": "6aab6f57-29d7-4c81-9795-9ab5753d5641",
   "metadata": {},
   "source": [
    "### Dictionaries"
   ]
  },
  {
   "cell_type": "markdown",
   "id": "495ae37c-0b3f-4d07-8240-0317bb04a995",
   "metadata": {},
   "source": [
    "A dictionary is a collection which is unordered, changeable and indexed. In Python dictionary are wrritten with curly brackets{} and the have key and values."
   ]
  },
  {
   "cell_type": "code",
   "execution_count": null,
   "id": "460f8b32-d4b4-483a-93fb-a7c740b2c085",
   "metadata": {},
   "outputs": [],
   "source": []
  },
  {
   "cell_type": "code",
   "execution_count": null,
   "id": "9b5dab84-7b04-452a-9423-2a2639087677",
   "metadata": {},
   "outputs": [],
   "source": []
  },
  {
   "cell_type": "code",
   "execution_count": null,
   "id": "8ba13f77-3953-4f6e-9509-06ca426e0fbb",
   "metadata": {},
   "outputs": [],
   "source": []
  },
  {
   "cell_type": "code",
   "execution_count": null,
   "id": "b84da6cc-0a96-4e3c-bdc1-f8510f49f831",
   "metadata": {},
   "outputs": [],
   "source": []
  },
  {
   "cell_type": "code",
   "execution_count": null,
   "id": "e3b57bf9-9678-46ef-ab0b-92ff98cacf24",
   "metadata": {},
   "outputs": [],
   "source": []
  },
  {
   "cell_type": "code",
   "execution_count": null,
   "id": "9e685580-31e1-4bc2-a10e-d0c240ef87fa",
   "metadata": {},
   "outputs": [],
   "source": []
  },
  {
   "cell_type": "code",
   "execution_count": null,
   "id": "29a08e57-74a7-4ed6-b570-3cfb568c4edb",
   "metadata": {},
   "outputs": [],
   "source": []
  },
  {
   "cell_type": "markdown",
   "id": "ef723178-3a72-4e96-a5c1-8468e3d37d6f",
   "metadata": {},
   "source": [
    "#### Python Quizs"
   ]
  },
  {
   "cell_type": "code",
   "execution_count": 46,
   "id": "ed01082d-e496-4099-954c-237c4dbd82e7",
   "metadata": {},
   "outputs": [
    {
     "data": {
      "text/html": [
       "<div>\n",
       "<style scoped>\n",
       "    .dataframe tbody tr th:only-of-type {\n",
       "        vertical-align: middle;\n",
       "    }\n",
       "\n",
       "    .dataframe tbody tr th {\n",
       "        vertical-align: top;\n",
       "    }\n",
       "\n",
       "    .dataframe thead th {\n",
       "        text-align: right;\n",
       "    }\n",
       "</style>\n",
       "<table border=\"1\" class=\"dataframe\">\n",
       "  <thead>\n",
       "    <tr style=\"text-align: right;\">\n",
       "      <th></th>\n",
       "      <th>gender</th>\n",
       "      <th>age</th>\n",
       "    </tr>\n",
       "  </thead>\n",
       "  <tbody>\n",
       "    <tr>\n",
       "      <th>0</th>\n",
       "      <td>male</td>\n",
       "      <td>25.0</td>\n",
       "    </tr>\n",
       "    <tr>\n",
       "      <th>1</th>\n",
       "      <td>female</td>\n",
       "      <td>30.0</td>\n",
       "    </tr>\n",
       "    <tr>\n",
       "      <th>2</th>\n",
       "      <td>male</td>\n",
       "      <td>27.0</td>\n",
       "    </tr>\n",
       "    <tr>\n",
       "      <th>3</th>\n",
       "      <td>female</td>\n",
       "      <td>32.0</td>\n",
       "    </tr>\n",
       "  </tbody>\n",
       "</table>\n",
       "</div>"
      ],
      "text/plain": [
       "   gender   age\n",
       "0    male  25.0\n",
       "1  female  30.0\n",
       "2    male  27.0\n",
       "3  female  32.0"
      ]
     },
     "execution_count": 46,
     "metadata": {},
     "output_type": "execute_result"
    }
   ],
   "source": []
  },
  {
   "cell_type": "code",
   "execution_count": null,
   "id": "10eaf543-4718-4be0-a0a4-59df46ccfa2a",
   "metadata": {},
   "outputs": [],
   "source": []
  },
  {
   "cell_type": "code",
   "execution_count": 125,
   "id": "8bf15e28-faf6-49cf-b651-ddb591bde6f2",
   "metadata": {},
   "outputs": [
    {
     "name": "stdout",
     "output_type": "stream",
     "text": [
      "apple\n",
      "orange\n"
     ]
    }
   ],
   "source": [
    "fruits = ['apple', 'banana', 'apricot', 'orange', 'avocado']\n",
    "\n",
    "new_list = [x for x in fruits if x[-1] =='e']\n",
    "for i in new_list:\n",
    "    print(i)"
   ]
  },
  {
   "cell_type": "code",
   "execution_count": 52,
   "id": "63cfea3e-1653-4ae4-a5b0-c2ebcbdab095",
   "metadata": {},
   "outputs": [
    {
     "name": "stdout",
     "output_type": "stream",
     "text": [
      "50\n"
     ]
    }
   ],
   "source": [
    "salary = [100, 200, 50, 20, 10]\n",
    "new_salary = [x for x in salary if x >20 and x<200]\n",
    "for i in new_salary:\n",
    "    if i !=100:\n",
    "        print(i)"
   ]
  },
  {
   "cell_type": "code",
   "execution_count": 53,
   "id": "f1445a1d-60c2-491e-82e7-d90276dc78e6",
   "metadata": {},
   "outputs": [
    {
     "name": "stdout",
     "output_type": "stream",
     "text": [
      "apple\n",
      "apricot\n",
      "avocado\n"
     ]
    }
   ],
   "source": [
    "for i in fruits:\n",
    "    if i.startswith('a'):\n",
    "        print(i)"
   ]
  },
  {
   "cell_type": "code",
   "execution_count": 54,
   "id": "ecc3b035-9ff3-4203-b43e-d3b97e660e47",
   "metadata": {},
   "outputs": [
    {
     "name": "stdout",
     "output_type": "stream",
     "text": [
      "2\n",
      "4\n",
      "6\n"
     ]
    }
   ],
   "source": [
    "numbers = [2, 3, 4, 6, 5]\n",
    "qsr_list = [x for x in numbers if x % 2==0]\n",
    "for i in qsr_list:\n",
    "    print(i)"
   ]
  },
  {
   "cell_type": "code",
   "execution_count": null,
   "id": "6469679c-7489-4dcb-b53e-11653c6b77c0",
   "metadata": {},
   "outputs": [],
   "source": []
  },
  {
   "cell_type": "code",
   "execution_count": 55,
   "id": "70bca6a9-81cf-48a5-aa48-cc1443e7e30e",
   "metadata": {},
   "outputs": [
    {
     "name": "stdout",
     "output_type": "stream",
     "text": [
      "[('USA', 'Washington'), ('Canada', 'Ottawa'), ('UK', 'London'), ('Germany', 'Berlin')]\n"
     ]
    }
   ],
   "source": [
    "countries = [\"USA\", \"Canada\", \"UK\", \"Germany\"]\n",
    "capitals = [\"Washington\", \"Ottawa\", \"London\", \"Berlin\"]\n",
    "\n",
    "new_list = [(countries,capitals) for countries, capitals in zip(countries,capitals)]\n",
    "print(new_list)\n"
   ]
  },
  {
   "cell_type": "code",
   "execution_count": 56,
   "id": "a471292a-088e-48ee-8f13-198fd56dcadd",
   "metadata": {},
   "outputs": [],
   "source": [
    "#df.columns = [col.lower() for col in df.columns]\n",
    "#df.columns = map(lambda x : x.lower(), df.columns)\n",
    "#df.applymap(lambda x: x.lower() if isinstance(x, str) else x)"
   ]
  },
  {
   "cell_type": "code",
   "execution_count": 1,
   "id": "7882b726-14dd-4222-b07a-d68212c621b1",
   "metadata": {},
   "outputs": [
    {
     "name": "stdout",
     "output_type": "stream",
     "text": [
      "[2, 3, 4, 6, 5]\n",
      "[1, 2]\n",
      "[4, 5, 6, 7]\n"
     ]
    }
   ],
   "source": [
    "numbers = [[2, 3, 4, 6, 5],[], [1,2],[],[4,5,6,7]]\n",
    "new_list = [x for x in numbers if x !=[]]\n",
    "for i in new_list:\n",
    "    print(i)"
   ]
  },
  {
   "cell_type": "code",
   "execution_count": 58,
   "id": "a9b9c96f-ef5e-4173-973f-2d5cf7235b9d",
   "metadata": {},
   "outputs": [
    {
     "data": {
      "text/plain": [
       "8"
      ]
     },
     "execution_count": 58,
     "metadata": {},
     "output_type": "execute_result"
    }
   ],
   "source": [
    "def find_second_largest(nums):\n",
    "    sorted_nums = sorted(nums, reverse=True)  # Sort the list in descending order  \n",
    "    second_largest = sorted_nums[1]  # The second element in the sorted list is the second largest   \n",
    "    return second_largest\n",
    "\n",
    "my_list = [5, 2, 8, 10, 3]\n",
    "find_second_largest(my_list)"
   ]
  },
  {
   "cell_type": "code",
   "execution_count": 59,
   "id": "18437808-90d7-4e13-90ea-97b9be466fd8",
   "metadata": {},
   "outputs": [
    {
     "data": {
      "text/plain": [
       "8"
      ]
     },
     "execution_count": 59,
     "metadata": {},
     "output_type": "execute_result"
    }
   ],
   "source": [
    "list_new = max([x for x in my_list if x != max(my_list)])\n",
    "list_new"
   ]
  },
  {
   "cell_type": "code",
   "execution_count": 60,
   "id": "69af48d6-f8c9-4fb9-96c0-81b3fc85a33e",
   "metadata": {},
   "outputs": [
    {
     "name": "stdout",
     "output_type": "stream",
     "text": [
      "The string is a palindrome.\n"
     ]
    }
   ],
   "source": [
    "def isplaindrome(txt):\n",
    "    return txt == txt[::-1]\n",
    "    \n",
    "if isplaindrome('eye'):\n",
    "    print(\"The string is a palindrome.\")\n",
    "else:\n",
    "    print(\"The string is not a palindrome.\")"
   ]
  },
  {
   "cell_type": "code",
   "execution_count": 61,
   "id": "518f2682-cf11-4561-abe9-9b86b178efd4",
   "metadata": {},
   "outputs": [
    {
     "data": {
      "text/html": [
       "<div>\n",
       "<style scoped>\n",
       "    .dataframe tbody tr th:only-of-type {\n",
       "        vertical-align: middle;\n",
       "    }\n",
       "\n",
       "    .dataframe tbody tr th {\n",
       "        vertical-align: top;\n",
       "    }\n",
       "\n",
       "    .dataframe thead th {\n",
       "        text-align: right;\n",
       "    }\n",
       "</style>\n",
       "<table border=\"1\" class=\"dataframe\">\n",
       "  <thead>\n",
       "    <tr style=\"text-align: right;\">\n",
       "      <th></th>\n",
       "      <th>gender</th>\n",
       "      <th>department</th>\n",
       "      <th>age</th>\n",
       "      <th>salary</th>\n",
       "      <th>award</th>\n",
       "    </tr>\n",
       "  </thead>\n",
       "  <tbody>\n",
       "    <tr>\n",
       "      <th>0</th>\n",
       "      <td>male</td>\n",
       "      <td>A</td>\n",
       "      <td>27</td>\n",
       "      <td>55000</td>\n",
       "      <td>1</td>\n",
       "    </tr>\n",
       "    <tr>\n",
       "      <th>1</th>\n",
       "      <td>female</td>\n",
       "      <td>B</td>\n",
       "      <td>32</td>\n",
       "      <td>65000</td>\n",
       "      <td>4</td>\n",
       "    </tr>\n",
       "  </tbody>\n",
       "</table>\n",
       "</div>"
      ],
      "text/plain": [
       "   gender department  age  salary  award\n",
       "0    male          A   27   55000      1\n",
       "1  female          B   32   65000      4"
      ]
     },
     "execution_count": 61,
     "metadata": {},
     "output_type": "execute_result"
    }
   ],
   "source": [
    "df.groupby('department').apply(lambda x: x.nlargest(1, 'salary')).reset_index(drop = True)"
   ]
  },
  {
   "cell_type": "code",
   "execution_count": 62,
   "id": "07a3e4f1-017b-4e61-b4e0-1d61c5c23f84",
   "metadata": {},
   "outputs": [
    {
     "data": {
      "text/html": [
       "<div>\n",
       "<style scoped>\n",
       "    .dataframe tbody tr th:only-of-type {\n",
       "        vertical-align: middle;\n",
       "    }\n",
       "\n",
       "    .dataframe tbody tr th {\n",
       "        vertical-align: top;\n",
       "    }\n",
       "\n",
       "    .dataframe thead th {\n",
       "        text-align: right;\n",
       "    }\n",
       "</style>\n",
       "<table border=\"1\" class=\"dataframe\">\n",
       "  <thead>\n",
       "    <tr style=\"text-align: right;\">\n",
       "      <th></th>\n",
       "      <th>department</th>\n",
       "      <th>mean</th>\n",
       "      <th>sum</th>\n",
       "      <th>count</th>\n",
       "    </tr>\n",
       "  </thead>\n",
       "  <tbody>\n",
       "    <tr>\n",
       "      <th>0</th>\n",
       "      <td>A</td>\n",
       "      <td>52500.0</td>\n",
       "      <td>105000</td>\n",
       "      <td>2</td>\n",
       "    </tr>\n",
       "    <tr>\n",
       "      <th>1</th>\n",
       "      <td>B</td>\n",
       "      <td>62500.0</td>\n",
       "      <td>125000</td>\n",
       "      <td>2</td>\n",
       "    </tr>\n",
       "  </tbody>\n",
       "</table>\n",
       "</div>"
      ],
      "text/plain": [
       "  department     mean     sum  count\n",
       "0          A  52500.0  105000      2\n",
       "1          B  62500.0  125000      2"
      ]
     },
     "execution_count": 62,
     "metadata": {},
     "output_type": "execute_result"
    }
   ],
   "source": [
    "df.groupby('department')['salary'].agg({'sum','mean','count'}).reset_index()"
   ]
  },
  {
   "cell_type": "code",
   "execution_count": 63,
   "id": "14323a06-66d3-4637-9c83-c9d0bb5a281c",
   "metadata": {},
   "outputs": [
    {
     "data": {
      "text/html": [
       "<div>\n",
       "<style scoped>\n",
       "    .dataframe tbody tr th:only-of-type {\n",
       "        vertical-align: middle;\n",
       "    }\n",
       "\n",
       "    .dataframe tbody tr th {\n",
       "        vertical-align: top;\n",
       "    }\n",
       "\n",
       "    .dataframe thead th {\n",
       "        text-align: right;\n",
       "    }\n",
       "</style>\n",
       "<table border=\"1\" class=\"dataframe\">\n",
       "  <thead>\n",
       "    <tr style=\"text-align: right;\">\n",
       "      <th></th>\n",
       "      <th>gender</th>\n",
       "      <th>department</th>\n",
       "      <th>age</th>\n",
       "      <th>salary</th>\n",
       "      <th>award</th>\n",
       "    </tr>\n",
       "  </thead>\n",
       "  <tbody>\n",
       "    <tr>\n",
       "      <th>0</th>\n",
       "      <td>male</td>\n",
       "      <td>A</td>\n",
       "      <td>25</td>\n",
       "      <td>50000</td>\n",
       "      <td>2</td>\n",
       "    </tr>\n",
       "    <tr>\n",
       "      <th>1</th>\n",
       "      <td>female</td>\n",
       "      <td>B</td>\n",
       "      <td>30</td>\n",
       "      <td>60000</td>\n",
       "      <td>3</td>\n",
       "    </tr>\n",
       "    <tr>\n",
       "      <th>2</th>\n",
       "      <td>male</td>\n",
       "      <td>A</td>\n",
       "      <td>27</td>\n",
       "      <td>55000</td>\n",
       "      <td>1</td>\n",
       "    </tr>\n",
       "    <tr>\n",
       "      <th>3</th>\n",
       "      <td>female</td>\n",
       "      <td>B</td>\n",
       "      <td>32</td>\n",
       "      <td>65000</td>\n",
       "      <td>4</td>\n",
       "    </tr>\n",
       "  </tbody>\n",
       "</table>\n",
       "</div>"
      ],
      "text/plain": [
       "   gender department  age  salary  award\n",
       "0    male          A   25   50000      2\n",
       "1  female          B   30   60000      3\n",
       "2    male          A   27   55000      1\n",
       "3  female          B   32   65000      4"
      ]
     },
     "execution_count": 63,
     "metadata": {},
     "output_type": "execute_result"
    }
   ],
   "source": [
    "df"
   ]
  },
  {
   "cell_type": "code",
   "execution_count": 64,
   "id": "5301dc6a-e17b-410e-8acd-aa54af531b64",
   "metadata": {},
   "outputs": [
    {
     "data": {
      "text/html": [
       "<div>\n",
       "<style scoped>\n",
       "    .dataframe tbody tr th:only-of-type {\n",
       "        vertical-align: middle;\n",
       "    }\n",
       "\n",
       "    .dataframe tbody tr th {\n",
       "        vertical-align: top;\n",
       "    }\n",
       "\n",
       "    .dataframe thead th {\n",
       "        text-align: right;\n",
       "    }\n",
       "</style>\n",
       "<table border=\"1\" class=\"dataframe\">\n",
       "  <thead>\n",
       "    <tr style=\"text-align: right;\">\n",
       "      <th></th>\n",
       "      <th>department</th>\n",
       "      <th>award</th>\n",
       "      <th>salary</th>\n",
       "    </tr>\n",
       "  </thead>\n",
       "  <tbody>\n",
       "    <tr>\n",
       "      <th>0</th>\n",
       "      <td>A</td>\n",
       "      <td>3</td>\n",
       "      <td>105000</td>\n",
       "    </tr>\n",
       "    <tr>\n",
       "      <th>1</th>\n",
       "      <td>B</td>\n",
       "      <td>7</td>\n",
       "      <td>125000</td>\n",
       "    </tr>\n",
       "  </tbody>\n",
       "</table>\n",
       "</div>"
      ],
      "text/plain": [
       "  department  award  salary\n",
       "0          A      3  105000\n",
       "1          B      7  125000"
      ]
     },
     "execution_count": 64,
     "metadata": {},
     "output_type": "execute_result"
    }
   ],
   "source": [
    "df.pivot_table(values = ['salary','award'], \n",
    "               columns = 'department', aggfunc='sum').T.reset_index()"
   ]
  },
  {
   "cell_type": "code",
   "execution_count": 65,
   "id": "8481a716-4868-4f44-bf39-4bf860b24b7d",
   "metadata": {},
   "outputs": [
    {
     "name": "stdout",
     "output_type": "stream",
     "text": [
      "120\n"
     ]
    }
   ],
   "source": [
    "def factorial(n):\n",
    "    if n ==0:\n",
    "        return 1\n",
    "    else:\n",
    "        return n * factorial(n-1)\n",
    "print(factorial(5))"
   ]
  },
  {
   "cell_type": "code",
   "execution_count": 66,
   "id": "bee1416e-c3c6-4e3e-aa0b-8cfb4815999d",
   "metadata": {},
   "outputs": [
    {
     "data": {
      "text/plain": [
       "120"
      ]
     },
     "execution_count": 66,
     "metadata": {},
     "output_type": "execute_result"
    }
   ],
   "source": [
    "def factorial1(n):\n",
    "    result =1\n",
    "    for i in range(1, n+1):\n",
    "        result *=i\n",
    "    return result\n",
    "factorial1(5)"
   ]
  },
  {
   "cell_type": "code",
   "execution_count": 118,
   "id": "3b032bac-a091-47b9-b8ff-abc8f0d3cc93",
   "metadata": {},
   "outputs": [
    {
     "name": "stdout",
     "output_type": "stream",
     "text": [
      "1\n",
      "2\n",
      "Fizz\n",
      "4\n",
      "Buzz\n",
      "Fizz\n",
      "7\n",
      "8\n",
      "Fizz\n",
      "Buzz\n",
      "11\n",
      "Fizz\n",
      "13\n",
      "14\n",
      "FizzBuzz\n",
      "16\n",
      "17\n",
      "Fizz\n",
      "19\n",
      "Buzz\n"
     ]
    }
   ],
   "source": [
    "for i in range(1,21):\n",
    "    if i % 3 == 0 and i % 5 ==0:\n",
    "        print(\"FizzBuzz\")\n",
    "    elif i % 3 ==0:\n",
    "        print(\"Fizz\")\n",
    "    elif i % 5 ==0:\n",
    "        print(\"Buzz\")\n",
    "    else:\n",
    "        print(i)"
   ]
  },
  {
   "cell_type": "code",
   "execution_count": 26,
   "id": "258acba5-15f2-4500-80c0-5e8e08829a6f",
   "metadata": {},
   "outputs": [],
   "source": [
    "def is_leap(year):\n",
    "    if year % 4 == 0:\n",
    "        return True\n",
    "    elif year % 100 == 0:\n",
    "        return False\n",
    "    elif year % 400 == 0:\n",
    "        return True\n",
    "    else:\n",
    "        return False\n",
    "\n",
    "#year = int(input())\n",
    "#print(is_leap(year))"
   ]
  },
  {
   "cell_type": "code",
   "execution_count": 16,
   "id": "fe3986b0-309c-4411-a77b-1e104aba6725",
   "metadata": {},
   "outputs": [
    {
     "name": "stdin",
     "output_type": "stream",
     "text": [
      " 17\n"
     ]
    },
    {
     "name": "stdout",
     "output_type": "stream",
     "text": [
      "    1     1     1     1\n",
      "    2     2     2    10\n",
      "    3     3     3    11\n",
      "    4     4     4   100\n",
      "    5     5     5   101\n",
      "    6     6     6   110\n",
      "    7     7     7   111\n",
      "    8    10     8  1000\n",
      "    9    11     9  1001\n",
      "   10    12     A  1010\n",
      "   11    13     B  1011\n",
      "   12    14     C  1100\n",
      "   13    15     D  1101\n",
      "   14    16     E  1110\n",
      "   15    17     F  1111\n",
      "   16    20    10 10000\n",
      "   17    21    11 10001\n"
     ]
    }
   ],
   "source": [
    "def print_formatted(number):\n",
    "    for i in range(1, number+1):\n",
    "        l=len('{0:b}'.format(number))\n",
    "        #print(l)\n",
    "        l=int(l)\n",
    "        print('{0:{width}d} {0:{width}o} {0:{width}X} {0:{width}b}'.format(i,width= l))\n",
    "\n",
    "n = int(input())\n",
    "print_formatted(n)"
   ]
  },
  {
   "cell_type": "code",
   "execution_count": 19,
   "id": "1589f150-5e92-4af2-ae51-c6920abfb025",
   "metadata": {},
   "outputs": [
    {
     "name": "stdout",
     "output_type": "stream",
     "text": [
      "1\n",
      "2\n",
      "Fizz\n",
      "4\n",
      "Buzz\n",
      "Fizz\n",
      "7\n",
      "8\n",
      "Fizz\n",
      "Buzz\n",
      "11\n",
      "Fizz\n",
      "13\n",
      "14\n",
      "FizzBuzz\n"
     ]
    }
   ],
   "source": [
    "def fuzzbuzz(n):\n",
    "    for i in range(1, n+1):\n",
    "        if i % 3==0 and i % 5==0:\n",
    "            print('FizzBuzz')\n",
    "        elif i % 3 ==0:\n",
    "            print('Fizz')\n",
    "        elif i % 5 ==0:\n",
    "            print(\"Buzz\")\n",
    "        else:\n",
    "            print(i)\n",
    "fuzzbuzz(15)"
   ]
  },
  {
   "cell_type": "markdown",
   "id": "92f51156-b525-4b51-8225-248f9ab7c0d7",
   "metadata": {},
   "source": [
    "Write a Python class named Employee with attributes name, age, and salary, and a method display() to print the details of the employee."
   ]
  },
  {
   "cell_type": "code",
   "execution_count": null,
   "id": "ad0e9ab2-e217-4ca3-9bf1-b3a11d050c60",
   "metadata": {},
   "outputs": [],
   "source": []
  }
 ],
 "metadata": {
  "kernelspec": {
   "display_name": "Python 3 (ipykernel)",
   "language": "python",
   "name": "python3"
  },
  "language_info": {
   "codemirror_mode": {
    "name": "ipython",
    "version": 3
   },
   "file_extension": ".py",
   "mimetype": "text/x-python",
   "name": "python",
   "nbconvert_exporter": "python",
   "pygments_lexer": "ipython3",
   "version": "3.12.1"
  }
 },
 "nbformat": 4,
 "nbformat_minor": 5
}
