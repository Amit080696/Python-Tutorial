{
 "cells": [
  {
   "cell_type": "code",
   "execution_count": null,
   "id": "c6123894-002a-44eb-b3c3-f2bc6f728d8b",
   "metadata": {},
   "outputs": [],
   "source": [
    "# function copy\n",
    "# closures\n",
    "# Decorators"
   ]
  },
  {
   "cell_type": "code",
   "execution_count": 2,
   "id": "b201171f-70de-4d2d-b2c5-fd2f83dee179",
   "metadata": {},
   "outputs": [],
   "source": [
    "def welcome():\n",
    "    return \"Welcome the the Amit Baghel YouTube Channel.\""
   ]
  },
  {
   "cell_type": "code",
   "execution_count": 5,
   "id": "b77442a1-8770-4e74-a4fa-d73d09a33610",
   "metadata": {},
   "outputs": [],
   "source": [
    "wel = welcome()\n",
    "del welcome"
   ]
  },
  {
   "cell_type": "code",
   "execution_count": 6,
   "id": "01bc9dba-0b4a-49e2-8678-2894ef90dfe0",
   "metadata": {},
   "outputs": [
    {
     "data": {
      "text/plain": [
       "'Welcome the the Amit Baghel YouTube Channel.'"
      ]
     },
     "execution_count": 6,
     "metadata": {},
     "output_type": "execute_result"
    }
   ],
   "source": [
    "wel"
   ]
  },
  {
   "cell_type": "code",
   "execution_count": 8,
   "id": "82ec2d52-dd2f-400a-b807-cd1718aebe94",
   "metadata": {},
   "outputs": [
    {
     "ename": "NameError",
     "evalue": "name 'welcome' is not defined",
     "output_type": "error",
     "traceback": [
      "\u001b[0;31m---------------------------------------------------------------------------\u001b[0m",
      "\u001b[0;31mNameError\u001b[0m                                 Traceback (most recent call last)",
      "Cell \u001b[0;32mIn[8], line 1\u001b[0m\n\u001b[0;32m----> 1\u001b[0m \u001b[43mwelcome\u001b[49m()\n",
      "\u001b[0;31mNameError\u001b[0m: name 'welcome' is not defined"
     ]
    }
   ],
   "source": [
    "welcome()"
   ]
  },
  {
   "cell_type": "code",
   "execution_count": null,
   "id": "f422c3f5-7b76-4a0b-94dd-34c6df06131b",
   "metadata": {},
   "outputs": [],
   "source": [
    "#closures - when we write function inside a function called as closures"
   ]
  },
  {
   "cell_type": "code",
   "execution_count": 11,
   "id": "aab62612-dfd0-4337-a252-9ddb3f262532",
   "metadata": {},
   "outputs": [
    {
     "name": "stdout",
     "output_type": "stream",
     "text": [
      "Welcome the the Amit Baghel YouTube Channel.\n",
      "Amit Baghel\n",
      "Please subscribe the Amit Channel\n"
     ]
    }
   ],
   "source": [
    "def main_welcome(msg):\n",
    "    \n",
    "    def sub_welcome_class():\n",
    "        print(\"Welcome the the Amit Baghel YouTube Channel.\")\n",
    "        print(msg)\n",
    "        print(\"Please subscribe the Amit Channel\")\n",
    "    return sub_welcome_class()\n",
    "\n",
    "main_welcome(\"Amit Baghel\")"
   ]
  },
  {
   "cell_type": "code",
   "execution_count": null,
   "id": "e807085c-d1bf-4c3a-8a1b-99e8ed5a50ef",
   "metadata": {},
   "outputs": [],
   "source": [
    "#closures & initial Decorators"
   ]
  },
  {
   "cell_type": "code",
   "execution_count": 14,
   "id": "c15c68e0-570a-4277-8ed8-96ebe0468fd9",
   "metadata": {},
   "outputs": [
    {
     "name": "stdout",
     "output_type": "stream",
     "text": [
      "Welcome the the Amit Baghel YouTube Channel.\n",
      "6\n",
      "Please subscribe the Amit Channel\n"
     ]
    }
   ],
   "source": [
    "def main_welcome(func):\n",
    "    \n",
    "    def sub_welcome_class():\n",
    "        print(\"Welcome the the Amit Baghel YouTube Channel.\")\n",
    "        print(func([1,2,3,4,5,6]))\n",
    "        print(\"Please subscribe the Amit Channel\")\n",
    "    return sub_welcome_class()\n",
    "\n",
    "main_welcome(len)"
   ]
  },
  {
   "cell_type": "code",
   "execution_count": null,
   "id": "0684419c-0437-45ac-b0d3-25bd8e714478",
   "metadata": {},
   "outputs": [],
   "source": [
    "#Decorators"
   ]
  },
  {
   "cell_type": "code",
   "execution_count": 18,
   "id": "d41cdfad-7edb-4a7a-848a-44bc63cab87b",
   "metadata": {},
   "outputs": [],
   "source": [
    "def main_welcome(func):\n",
    "    \n",
    "    def sub_welcome_class():\n",
    "        print(\"Welcome the the Amit Baghel YouTube Channel.\")\n",
    "        func()\n",
    "        print(\"Please subscribe the Amit Channel\")\n",
    "    return sub_welcome_class()\n"
   ]
  },
  {
   "cell_type": "code",
   "execution_count": 20,
   "id": "1f6cae46-77eb-46f4-8558-2d8a1e1211dd",
   "metadata": {},
   "outputs": [],
   "source": [
    "def channel_name():\n",
    "    print(\"This is Amit YouTube channel\")"
   ]
  },
  {
   "cell_type": "code",
   "execution_count": 21,
   "id": "7e58c277-b6ce-467c-a947-171c9ee890ea",
   "metadata": {},
   "outputs": [
    {
     "name": "stdout",
     "output_type": "stream",
     "text": [
      "Welcome the the Amit Baghel YouTube Channel.\n",
      "This is Amit YouTube channel\n",
      "Please subscribe the Amit Channel\n"
     ]
    }
   ],
   "source": [
    "#method 1 - to call decorators\n",
    "main_welcome(channel_name)"
   ]
  },
  {
   "cell_type": "code",
   "execution_count": 22,
   "id": "7e833975-75e0-4adf-b2ed-ca4340a8c2fb",
   "metadata": {},
   "outputs": [
    {
     "name": "stdout",
     "output_type": "stream",
     "text": [
      "Welcome the the Amit Baghel YouTube Channel.\n",
      "This is Amit YouTube channel\n",
      "Please subscribe the Amit Channel\n"
     ]
    }
   ],
   "source": [
    "#method 2 - to call decorators\n",
    "@main_welcome    \n",
    "def channel_name():\n",
    "    print(\"This is Amit YouTube channel\")"
   ]
  }
 ],
 "metadata": {
  "kernelspec": {
   "display_name": "Python 3 (ipykernel)",
   "language": "python",
   "name": "python3"
  },
  "language_info": {
   "codemirror_mode": {
    "name": "ipython",
    "version": 3
   },
   "file_extension": ".py",
   "mimetype": "text/x-python",
   "name": "python",
   "nbconvert_exporter": "python",
   "pygments_lexer": "ipython3",
   "version": "3.12.1"
  }
 },
 "nbformat": 4,
 "nbformat_minor": 5
}
