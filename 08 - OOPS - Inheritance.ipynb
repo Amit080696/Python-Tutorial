{
 "cells": [
  {
   "cell_type": "markdown",
   "id": "355495cf-f008-46ae-8eab-c36ce4d0ae26",
   "metadata": {},
   "source": [
    "Inheritance allows us to define a class that inherits all the methods and properties from another class. Parent class is the class being inherited from, also called base class. Child class is the class that inherits from another class, also called derived class."
   ]
  },
  {
   "cell_type": "code",
   "execution_count": 11,
   "id": "0a97df47-b41e-42cc-872a-97f1789d9edd",
   "metadata": {},
   "outputs": [],
   "source": [
    "# All the class variable are public\n",
    "# Car BluePrint \n",
    "class Car:\n",
    "    def __init__(self, window, door, enginetype):\n",
    "        self.windows = window \n",
    "        self.doors = door \n",
    "        self.enginetypes = enginetype \n",
    "        \n",
    "    def drive(self):\n",
    "        print(\"The Person drive the car\")\n",
    "\n",
    "# public variable - self.windows = window and private self.__windows = window "
   ]
  },
  {
   "cell_type": "code",
   "execution_count": 14,
   "id": "51175954-dff7-4aa6-ab75-b2f605df00e8",
   "metadata": {},
   "outputs": [],
   "source": [
    "car = Car(4,5,'Diesal')"
   ]
  },
  {
   "cell_type": "code",
   "execution_count": 8,
   "id": "22e0db01-0113-40ee-81ad-d59f285aa390",
   "metadata": {},
   "outputs": [
    {
     "data": {
      "text/plain": [
       "4"
      ]
     },
     "execution_count": 8,
     "metadata": {},
     "output_type": "execute_result"
    }
   ],
   "source": [
    "car.windows"
   ]
  },
  {
   "cell_type": "code",
   "execution_count": 25,
   "id": "b8b53695-253c-4040-b8ac-a8fca9fb4c09",
   "metadata": {},
   "outputs": [],
   "source": [
    "# to check all the attributes and moethod \n",
    "#dir(car)"
   ]
  },
  {
   "cell_type": "code",
   "execution_count": 15,
   "id": "de93333d-a2b8-4817-80a4-7f2788cca079",
   "metadata": {},
   "outputs": [
    {
     "name": "stdout",
     "output_type": "stream",
     "text": [
      "The Person drive the car\n"
     ]
    }
   ],
   "source": [
    "car.drive()"
   ]
  },
  {
   "cell_type": "code",
   "execution_count": 17,
   "id": "3d78deec-f8d5-41cc-a59f-5b4f6b119eec",
   "metadata": {},
   "outputs": [],
   "source": [
    "# inheriting Car class to class Tesla where Car is parent class or base class and Tesla is child class or derived class\n",
    "class Tesla(Car):\n",
    "    def __init__(self, window, door, enginetype, enableai):\n",
    "        super().__init__(window, door, enginetype)\n",
    "        self.enableai = enableai\n",
    "    def selfdriving(self):\n",
    "        print(\"Tesla Supports self Driving\")"
   ]
  },
  {
   "cell_type": "code",
   "execution_count": 18,
   "id": "cf33cad0-298d-472f-a4c1-5d081fad03e9",
   "metadata": {},
   "outputs": [],
   "source": [
    "tesla = Tesla(5,4,\"Petrol\", True)"
   ]
  },
  {
   "cell_type": "code",
   "execution_count": 19,
   "id": "cda10c38-2393-4562-920b-618e875cb260",
   "metadata": {},
   "outputs": [
    {
     "data": {
      "text/plain": [
       "5"
      ]
     },
     "execution_count": 19,
     "metadata": {},
     "output_type": "execute_result"
    }
   ],
   "source": [
    "tesla.windows"
   ]
  },
  {
   "cell_type": "code",
   "execution_count": 21,
   "id": "175da7ca-2fd6-4e74-ab1f-149753a986f6",
   "metadata": {},
   "outputs": [
    {
     "data": {
      "text/plain": [
       "4"
      ]
     },
     "execution_count": 21,
     "metadata": {},
     "output_type": "execute_result"
    }
   ],
   "source": [
    "tesla.doors"
   ]
  },
  {
   "cell_type": "code",
   "execution_count": 22,
   "id": "d237aafb-de75-4f61-addd-614246a9e17f",
   "metadata": {},
   "outputs": [
    {
     "data": {
      "text/plain": [
       "True"
      ]
     },
     "execution_count": 22,
     "metadata": {},
     "output_type": "execute_result"
    }
   ],
   "source": [
    "tesla.enableai"
   ]
  },
  {
   "cell_type": "code",
   "execution_count": 24,
   "id": "7f44d318-01d9-4331-95c7-fbb44db8deb9",
   "metadata": {},
   "outputs": [
    {
     "name": "stdout",
     "output_type": "stream",
     "text": [
      "Tesla Supports self Driving\n"
     ]
    }
   ],
   "source": [
    "tesla.selfdriving()"
   ]
  },
  {
   "cell_type": "code",
   "execution_count": 26,
   "id": "1c356ba0-922b-4de8-936c-cc577fd3fce7",
   "metadata": {},
   "outputs": [
    {
     "name": "stdout",
     "output_type": "stream",
     "text": [
      "The Person drive the car\n"
     ]
    }
   ],
   "source": [
    "tesla.drive()"
   ]
  }
 ],
 "metadata": {
  "kernelspec": {
   "display_name": "Python 3 (ipykernel)",
   "language": "python",
   "name": "python3"
  },
  "language_info": {
   "codemirror_mode": {
    "name": "ipython",
    "version": 3
   },
   "file_extension": ".py",
   "mimetype": "text/x-python",
   "name": "python",
   "nbconvert_exporter": "python",
   "pygments_lexer": "ipython3",
   "version": "3.12.1"
  }
 },
 "nbformat": 4,
 "nbformat_minor": 5
}
