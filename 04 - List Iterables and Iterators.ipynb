{
 "cells": [
  {
   "cell_type": "code",
   "execution_count": 1,
   "id": "df4305cf-3ba9-4d49-b072-fcca26dbbaa9",
   "metadata": {},
   "outputs": [
    {
     "name": "stdout",
     "output_type": "stream",
     "text": [
      "1\n",
      "2\n",
      "3\n",
      "4\n",
      "5\n",
      "6\n",
      "7\n",
      "8\n"
     ]
    }
   ],
   "source": [
    "## list is iterable\n",
    "\n",
    "lst = [1,2,3,4,5,6,7,8]\n",
    "\n",
    "for i in lst:\n",
    "    print(i)"
   ]
  },
  {
   "cell_type": "code",
   "execution_count": 6,
   "id": "86459c71-f95e-4e4f-8ad2-6b3999db0ffc",
   "metadata": {},
   "outputs": [],
   "source": [
    "lst1 = iter(lst)   \n",
    "# iter() function convert a list as iterator and once this function call its not consume any memory until unless we call next() function\n",
    "# it "
   ]
  },
  {
   "cell_type": "code",
   "execution_count": 3,
   "id": "2f8251ff-931b-45f4-9e6f-c1af4c7594e4",
   "metadata": {},
   "outputs": [
    {
     "data": {
      "text/plain": [
       "<list_iterator at 0x103b427a0>"
      ]
     },
     "execution_count": 3,
     "metadata": {},
     "output_type": "execute_result"
    }
   ],
   "source": [
    "lst1"
   ]
  },
  {
   "cell_type": "code",
   "execution_count": 4,
   "id": "dc430afb-34bc-434a-bf98-386bc7e09875",
   "metadata": {},
   "outputs": [
    {
     "data": {
      "text/plain": [
       "1"
      ]
     },
     "execution_count": 4,
     "metadata": {},
     "output_type": "execute_result"
    }
   ],
   "source": [
    "next(lst1)"
   ]
  },
  {
   "cell_type": "code",
   "execution_count": 7,
   "id": "7dad67c4-57f4-4d65-be36-12caf3dfcf6c",
   "metadata": {},
   "outputs": [
    {
     "name": "stdout",
     "output_type": "stream",
     "text": [
      "1\n",
      "2\n",
      "3\n",
      "4\n",
      "5\n",
      "6\n",
      "7\n",
      "8\n"
     ]
    }
   ],
   "source": [
    "for i in lst1:\n",
    "    print(i)"
   ]
  },
  {
   "cell_type": "code",
   "execution_count": null,
   "id": "9f681f86-115f-4ffa-9b02-6b17047d9364",
   "metadata": {},
   "outputs": [],
   "source": [
    "#Why do we need iterables?\n",
    "\n"
   ]
  }
 ],
 "metadata": {
  "kernelspec": {
   "display_name": "Python 3 (ipykernel)",
   "language": "python",
   "name": "python3"
  },
  "language_info": {
   "codemirror_mode": {
    "name": "ipython",
    "version": 3
   },
   "file_extension": ".py",
   "mimetype": "text/x-python",
   "name": "python",
   "nbconvert_exporter": "python",
   "pygments_lexer": "ipython3",
   "version": "3.12.1"
  }
 },
 "nbformat": 4,
 "nbformat_minor": 5
}
