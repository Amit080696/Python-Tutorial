{
 "cells": [
  {
   "cell_type": "code",
   "execution_count": 1,
   "id": "86c377e5-ad66-42cd-b571-c91e1c6c27c3",
   "metadata": {},
   "outputs": [
    {
     "data": {
      "application/javascript": [
       "\n",
       "        if (window._pyforest_update_imports_cell) { window._pyforest_update_imports_cell('import pandas as pd'); }\n",
       "    "
      ],
      "text/plain": [
       "<IPython.core.display.Javascript object>"
      ]
     },
     "metadata": {},
     "output_type": "display_data"
    },
    {
     "data": {
      "text/html": [
       "<div>\n",
       "<style scoped>\n",
       "    .dataframe tbody tr th:only-of-type {\n",
       "        vertical-align: middle;\n",
       "    }\n",
       "\n",
       "    .dataframe tbody tr th {\n",
       "        vertical-align: top;\n",
       "    }\n",
       "\n",
       "    .dataframe thead th {\n",
       "        text-align: right;\n",
       "    }\n",
       "</style>\n",
       "<table border=\"1\" class=\"dataframe\">\n",
       "  <thead>\n",
       "    <tr style=\"text-align: right;\">\n",
       "      <th></th>\n",
       "      <th>Company Name</th>\n",
       "      <th>Year Ending</th>\n",
       "      <th>DSRI</th>\n",
       "      <th>GMI</th>\n",
       "      <th>AQI</th>\n",
       "      <th>SGI</th>\n",
       "      <th>DEPI</th>\n",
       "      <th>SGAI</th>\n",
       "      <th>ACCR</th>\n",
       "      <th>LEVI</th>\n",
       "      <th>MANIPULATOR</th>\n",
       "    </tr>\n",
       "  </thead>\n",
       "  <tbody>\n",
       "    <tr>\n",
       "      <th>0</th>\n",
       "      <td>1</td>\n",
       "      <td>3/31/2014</td>\n",
       "      <td>1.624742</td>\n",
       "      <td>1.128927</td>\n",
       "      <td>7.185053</td>\n",
       "      <td>0.366211</td>\n",
       "      <td>1.381519</td>\n",
       "      <td>1.624145</td>\n",
       "      <td>-0.166809</td>\n",
       "      <td>1.161082</td>\n",
       "      <td>1</td>\n",
       "    </tr>\n",
       "    <tr>\n",
       "      <th>1</th>\n",
       "      <td>2</td>\n",
       "      <td>3/31/2009</td>\n",
       "      <td>1.000000</td>\n",
       "      <td>1.606492</td>\n",
       "      <td>1.004988</td>\n",
       "      <td>13.081433</td>\n",
       "      <td>0.400000</td>\n",
       "      <td>5.198207</td>\n",
       "      <td>0.060475</td>\n",
       "      <td>0.986732</td>\n",
       "      <td>1</td>\n",
       "    </tr>\n",
       "    <tr>\n",
       "      <th>2</th>\n",
       "      <td>3</td>\n",
       "      <td>3/31/2008</td>\n",
       "      <td>1.000000</td>\n",
       "      <td>1.015607</td>\n",
       "      <td>1.241389</td>\n",
       "      <td>1.475018</td>\n",
       "      <td>1.169353</td>\n",
       "      <td>0.647671</td>\n",
       "      <td>0.036732</td>\n",
       "      <td>1.264305</td>\n",
       "      <td>1</td>\n",
       "    </tr>\n",
       "    <tr>\n",
       "      <th>3</th>\n",
       "      <td>4</td>\n",
       "      <td>3/31/2014</td>\n",
       "      <td>1.486239</td>\n",
       "      <td>1.000000</td>\n",
       "      <td>0.465535</td>\n",
       "      <td>0.672840</td>\n",
       "      <td>2.000000</td>\n",
       "      <td>0.092890</td>\n",
       "      <td>0.273434</td>\n",
       "      <td>0.680975</td>\n",
       "      <td>1</td>\n",
       "    </tr>\n",
       "    <tr>\n",
       "      <th>4</th>\n",
       "      <td>5</td>\n",
       "      <td>3/31/2010</td>\n",
       "      <td>1.000000</td>\n",
       "      <td>1.369038</td>\n",
       "      <td>0.637112</td>\n",
       "      <td>0.861346</td>\n",
       "      <td>1.454676</td>\n",
       "      <td>1.741460</td>\n",
       "      <td>0.123048</td>\n",
       "      <td>0.939047</td>\n",
       "      <td>1</td>\n",
       "    </tr>\n",
       "  </tbody>\n",
       "</table>\n",
       "</div>"
      ],
      "text/plain": [
       "   Company Name Year Ending      DSRI       GMI       AQI        SGI  \\\n",
       "0             1   3/31/2014  1.624742  1.128927  7.185053   0.366211   \n",
       "1             2   3/31/2009  1.000000  1.606492  1.004988  13.081433   \n",
       "2             3   3/31/2008  1.000000  1.015607  1.241389   1.475018   \n",
       "3             4   3/31/2014  1.486239  1.000000  0.465535   0.672840   \n",
       "4             5   3/31/2010  1.000000  1.369038  0.637112   0.861346   \n",
       "\n",
       "       DEPI      SGAI      ACCR      LEVI  MANIPULATOR  \n",
       "0  1.381519  1.624145 -0.166809  1.161082            1  \n",
       "1  0.400000  5.198207  0.060475  0.986732            1  \n",
       "2  1.169353  0.647671  0.036732  1.264305            1  \n",
       "3  2.000000  0.092890  0.273434  0.680975            1  \n",
       "4  1.454676  1.741460  0.123048  0.939047            1  "
      ]
     },
     "execution_count": 1,
     "metadata": {},
     "output_type": "execute_result"
    }
   ],
   "source": [
    "data = pd.read_csv(\"Earnings Manipulation 220.csv\")\n",
    "data.head()"
   ]
  },
  {
   "cell_type": "markdown",
   "id": "f79b41e1-979b-46ca-a54c-e9bc2bcc6e61",
   "metadata": {},
   "source": [
    "Cases of Manipulators vs. Non-Manipulators:"
   ]
  },
  {
   "cell_type": "code",
   "execution_count": 2,
   "id": "06c32261-3ac2-47ba-a26e-7ada2ca865a3",
   "metadata": {},
   "outputs": [],
   "source": [
    "data.drop(columns = 'Year Ending', inplace = True)"
   ]
  },
  {
   "cell_type": "code",
   "execution_count": 3,
   "id": "cae623e0-2194-4616-84bd-8daee41fa9e4",
   "metadata": {},
   "outputs": [
    {
     "name": "stdout",
     "output_type": "stream",
     "text": [
      "MANIPULATOR\n",
      "0    181\n",
      "1     39\n",
      "Name: count, dtype: int64\n"
     ]
    },
    {
     "data": {
      "image/png": "[encoded data removed]",
      "text/plain": [
       "<Figure size 640x480 with 1 Axes>"
      ]
     },
     "metadata": {},
     "output_type": "display_data"
    }
   ],
   "source": [
    "import pandas as pd\n",
    "import seaborn as sns\n",
    "import matplotlib.pyplot as plt\n",
    "\n",
    "manipulators_count = data['MANIPULATOR'].value_counts()\n",
    "print(manipulators_count)\n",
    "sns.barplot(x=manipulators_count.index, y=manipulators_count.values)\n",
    "plt.title('Manipulators vs. Non-Manipulators')\n",
    "plt.xlabel('Manipulator')\n",
    "plt.ylabel('Count')\n",
    "plt.show()"
   ]
  },
  {
   "cell_type": "markdown",
   "id": "caa2491e-e7cc-45a3-98f2-162836508f6a",
   "metadata": {},
   "source": [
    "Finding Positives in Test Data:"
   ]
  },
  {
   "cell_type": "code",
   "execution_count": 4,
   "id": "a6676a7d-38db-48ee-a2fe-f848125807d4",
   "metadata": {},
   "outputs": [
    {
     "name": "stdout",
     "output_type": "stream",
     "text": [
      "Positives in test data: 6\n"
     ]
    }
   ],
   "source": [
    "from sklearn.model_selection import train_test_split\n",
    "\n",
    "X = data.drop('MANIPULATOR', axis=1)\n",
    "y = data['MANIPULATOR']\n",
    "\n",
    "X_train, X_test, y_train, y_test = train_test_split(X, y, test_size=0.2, random_state=42)\n",
    "positives_in_test = y_test.sum()\n",
    "print(\"Positives in test data:\", positives_in_test)"
   ]
  },
  {
   "cell_type": "markdown",
   "id": "87b91daf-dbd4-4204-959e-6f72f2a34119",
   "metadata": {},
   "source": [
    "Upsampling Technique:"
   ]
  },
  {
   "cell_type": "code",
   "execution_count": 5,
   "id": "25f97300-0d1e-4626-b02d-83004d0f68c1",
   "metadata": {},
   "outputs": [
    {
     "data": {
      "text/plain": [
       "(362, 10)"
      ]
     },
     "execution_count": 5,
     "metadata": {},
     "output_type": "execute_result"
    }
   ],
   "source": [
    "from sklearn.utils import resample\n",
    "\n",
    "non_manipulators = data[data['MANIPULATOR'] == 0]\n",
    "manipulators = data[data['MANIPULATOR'] == 1]\n",
    "\n",
    "manipulators_upsampled = resample(manipulators, replace=True, n_samples=len(non_manipulators), random_state=42)\n",
    "\n",
    "balanced_data_upsampled = pd.concat([non_manipulators, manipulators_upsampled])\n",
    "balanced_data_upsampled.shape"
   ]
  },
  {
   "cell_type": "markdown",
   "id": "a9fc2a95-b5c3-4751-ac9e-af61fba4e384",
   "metadata": {},
   "source": [
    "Building Models:"
   ]
  },
  {
   "cell_type": "code",
   "execution_count": 6,
   "id": "77d24e69-7408-4a3e-a6fe-11d87dc0f09b",
   "metadata": {},
   "outputs": [
    {
     "name": "stdout",
     "output_type": "stream",
     "text": [
      "Naïve Bayes:\n",
      "Accuracy: 0.7397260273972602\n",
      "Precision: 0.9375\n",
      "Recall: 0.45454545454545453\n",
      "F1-score: 0.6122448979591837\n",
      "\n",
      "\n",
      "KNN:\n",
      "Accuracy: 1.0\n",
      "Precision: 1.0\n",
      "Recall: 1.0\n",
      "F1-score: 1.0\n",
      "\n",
      "\n",
      "SVM:\n",
      "Accuracy: 1.0\n",
      "Precision: 1.0\n",
      "Recall: 1.0\n",
      "F1-score: 1.0\n",
      "\n",
      "\n",
      "Logistic Regression:\n",
      "Accuracy: 1.0\n",
      "Precision: 1.0\n",
      "Recall: 1.0\n",
      "F1-score: 1.0\n",
      "\n",
      "\n",
      "Random Forest:\n",
      "Accuracy: 1.0\n",
      "Precision: 1.0\n",
      "Recall: 1.0\n",
      "F1-score: 1.0\n",
      "\n",
      "\n",
      "Adaboost:\n",
      "Accuracy: 1.0\n",
      "Precision: 1.0\n",
      "Recall: 1.0\n",
      "F1-score: 1.0\n",
      "\n",
      "\n",
      "Gradientboost:\n",
      "Accuracy: 1.0\n",
      "Precision: 1.0\n",
      "Recall: 1.0\n",
      "F1-score: 1.0\n",
      "\n",
      "\n",
      "XGBoost:\n",
      "Accuracy: 1.0\n",
      "Precision: 1.0\n",
      "Recall: 1.0\n",
      "F1-score: 1.0\n",
      "\n",
      "\n"
     ]
    }
   ],
   "source": [
    "from sklearn.model_selection import train_test_split, GridSearchCV\n",
    "from sklearn.metrics import accuracy_score, precision_score, recall_score, f1_score\n",
    "from sklearn.naive_bayes import GaussianNB\n",
    "from sklearn.neighbors import KNeighborsClassifier\n",
    "from sklearn.svm import SVC\n",
    "from sklearn.linear_model import LogisticRegression\n",
    "from sklearn.ensemble import RandomForestClassifier, AdaBoostClassifier, GradientBoostingClassifier\n",
    "import xgboost as xgb\n",
    "import warnings \n",
    "warnings.filterwarnings('ignore')\n",
    "\n",
    "# Split data into train and test sets\n",
    "X = balanced_data_upsampled.drop('MANIPULATOR', axis=1)\n",
    "y = balanced_data_upsampled['MANIPULATOR']\n",
    "X_train, X_test, y_train, y_test = train_test_split(X, y, test_size=0.2, random_state=42)\n",
    "\n",
    "# Define models\n",
    "models = {\n",
    "    'Naïve Bayes': GaussianNB(),\n",
    "    'KNN': KNeighborsClassifier(),\n",
    "    'SVM': SVC(),\n",
    "    'Logistic Regression': LogisticRegression(),\n",
    "    'Random Forest': RandomForestClassifier(),\n",
    "    'Adaboost': AdaBoostClassifier(),\n",
    "    'Gradientboost': GradientBoostingClassifier(),\n",
    "    'XGBoost': xgb.XGBClassifier()\n",
    "}\n",
    "\n",
    "param_grids = {\n",
    "    'Naïve Bayes': {},  # No hyperparameters for GaussianNB\n",
    "    'KNN': {'n_neighbors': [5, 10, 15]},\n",
    "    'SVM': {'C': [0.1, 1, 10], 'gamma': [0.1, 0.01, 0.001], 'kernel': ['rbf']},\n",
    "    'Logistic Regression': {'C': [0.1, 1, 10], 'penalty': ['l1', 'l2']},\n",
    "    'Random Forest': {'n_estimators': [100, 200, 300], 'max_depth': [None, 10, 20]},\n",
    "    'Adaboost': {'n_estimators': [50, 100, 150], 'learning_rate': [0.01, 0.1, 1]},\n",
    "    'Gradientboost': {'n_estimators': [50, 100, 150], 'learning_rate': [0.01, 0.1, 1], 'max_depth': [3, 5, 7]},\n",
    "    'XGBoost': {'n_estimators': [50, 100, 150], 'learning_rate': [0.01, 0.1, 1], 'max_depth': [3, 5, 7]}\n",
    "}\n",
    "\n",
    "for name, model in models.items():\n",
    "    grid_search = GridSearchCV(model, param_grids[name], cv=5, scoring='f1')\n",
    "    grid_search.fit(X_train, y_train)\n",
    "    best_model = grid_search.best_estimator_\n",
    "    y_pred = best_model.predict(X_test)\n",
    "    accuracy = accuracy_score(y_test, y_pred)\n",
    "    precision = precision_score(y_test, y_pred)\n",
    "    recall = recall_score(y_test, y_pred)\n",
    "    f1 = f1_score(y_test, y_pred)\n",
    "    print(f\"{name}:\")\n",
    "    print(\"Accuracy:\", accuracy)\n",
    "    print(\"Precision:\", precision)\n",
    "    print(\"Recall:\", recall)\n",
    "    print(\"F1-score:\", f1)\n",
    "    print(\"\\n\")\n"
   ]
  },
  {
   "cell_type": "markdown",
   "id": "39b892dc-6102-4c7a-a2b9-fcb5f316b683",
   "metadata": {},
   "source": [
    "Downsampling Technique:"
   ]
  },
  {
   "cell_type": "code",
   "execution_count": 7,
   "id": "93dcc176-ade0-478a-a8a1-65de926dfaec",
   "metadata": {},
   "outputs": [
    {
     "data": {
      "text/plain": [
       "(78, 10)"
      ]
     },
     "execution_count": 7,
     "metadata": {},
     "output_type": "execute_result"
    }
   ],
   "source": [
    "non_manipulators_downsampled = resample(non_manipulators, replace=False, n_samples=len(manipulators), random_state=42)\n",
    "\n",
    "balanced_data_downsampled = pd.concat([non_manipulators_downsampled, manipulators])\n",
    "balanced_data_downsampled.shape"
   ]
  },
  {
   "cell_type": "code",
   "execution_count": 8,
   "id": "6b06c857-bfad-4280-a91f-6d8a139f45ca",
   "metadata": {},
   "outputs": [
    {
     "name": "stdout",
     "output_type": "stream",
     "text": [
      "Naïve Bayes:\n",
      "Accuracy: 0.75\n",
      "Precision: 1.0\n",
      "Recall: 0.42857142857142855\n",
      "F1-score: 0.6\n",
      "\n",
      "\n",
      "KNN:\n",
      "Accuracy: 1.0\n",
      "Precision: 1.0\n",
      "Recall: 1.0\n",
      "F1-score: 1.0\n",
      "\n",
      "\n",
      "SVM:\n",
      "Accuracy: 1.0\n",
      "Precision: 1.0\n",
      "Recall: 1.0\n",
      "F1-score: 1.0\n",
      "\n",
      "\n",
      "Logistic Regression:\n",
      "Accuracy: 1.0\n",
      "Precision: 1.0\n",
      "Recall: 1.0\n",
      "F1-score: 1.0\n",
      "\n",
      "\n",
      "Random Forest:\n",
      "Accuracy: 1.0\n",
      "Precision: 1.0\n",
      "Recall: 1.0\n",
      "F1-score: 1.0\n",
      "\n",
      "\n",
      "Adaboost:\n",
      "Accuracy: 1.0\n",
      "Precision: 1.0\n",
      "Recall: 1.0\n",
      "F1-score: 1.0\n",
      "\n",
      "\n",
      "Gradientboost:\n",
      "Accuracy: 1.0\n",
      "Precision: 1.0\n",
      "Recall: 1.0\n",
      "F1-score: 1.0\n",
      "\n",
      "\n",
      "XGBoost:\n",
      "Accuracy: 1.0\n",
      "Precision: 1.0\n",
      "Recall: 1.0\n",
      "F1-score: 1.0\n",
      "\n",
      "\n"
     ]
    }
   ],
   "source": [
    "# Split data into train and test sets\n",
    "X = balanced_data_downsampled.drop('MANIPULATOR', axis=1)\n",
    "y = balanced_data_downsampled['MANIPULATOR']\n",
    "X_train, X_test, y_train, y_test = train_test_split(X, y, test_size=0.2, random_state=42)\n",
    "\n",
    "# Define models\n",
    "models = {\n",
    "    'Naïve Bayes': GaussianNB(),\n",
    "    'KNN': KNeighborsClassifier(),\n",
    "    'SVM': SVC(),\n",
    "    'Logistic Regression': LogisticRegression(),\n",
    "    'Random Forest': RandomForestClassifier(),\n",
    "    'Adaboost': AdaBoostClassifier(),\n",
    "    'Gradientboost': GradientBoostingClassifier(),\n",
    "    'XGBoost': xgb.XGBClassifier()\n",
    "}\n",
    "\n",
    "param_grids = {\n",
    "    'Naïve Bayes': {},  # No hyperparameters for GaussianNB\n",
    "    'KNN': {'n_neighbors': [5, 10, 15]},\n",
    "    'SVM': {'C': [0.1, 1, 10], 'gamma': [0.1, 0.01, 0.001], 'kernel': ['rbf']},\n",
    "    'Logistic Regression': {'C': [0.1, 1, 10], 'penalty': ['l1', 'l2']},\n",
    "    'Random Forest': {'n_estimators': [100, 200, 300], 'max_depth': [None, 10, 20]},\n",
    "    'Adaboost': {'n_estimators': [50, 100, 150], 'learning_rate': [0.01, 0.1, 1]},\n",
    "    'Gradientboost': {'n_estimators': [50, 100, 150], 'learning_rate': [0.01, 0.1, 1], 'max_depth': [3, 5, 7]},\n",
    "    'XGBoost': {'n_estimators': [50, 100, 150], 'learning_rate': [0.01, 0.1, 1], 'max_depth': [3, 5, 7]}\n",
    "}\n",
    "\n",
    "for name, model in models.items():\n",
    "    grid_search = GridSearchCV(model, param_grids[name], cv=5, scoring='f1')\n",
    "    grid_search.fit(X_train, y_train)\n",
    "    best_model = grid_search.best_estimator_\n",
    "    y_pred = best_model.predict(X_test)\n",
    "    accuracy = accuracy_score(y_test, y_pred)\n",
    "    precision = precision_score(y_test, y_pred)\n",
    "    recall = recall_score(y_test, y_pred)\n",
    "    f1 = f1_score(y_test, y_pred)\n",
    "    print(f\"{name}:\")\n",
    "    print(\"Accuracy:\", accuracy)\n",
    "    print(\"Precision:\", precision)\n",
    "    print(\"Recall:\", recall)\n",
    "    print(\"F1-score:\", f1)\n",
    "    print(\"\\n\")\n"
   ]
  }
 ],
 "metadata": {
  "kernelspec": {
   "display_name": "Python 3 (ipykernel)",
   "language": "python",
   "name": "python3"
  },
  "language_info": {
   "codemirror_mode": {
    "name": "ipython",
    "version": 3
   },
   "file_extension": ".py",
   "mimetype": "text/x-python",
   "name": "python",
   "nbconvert_exporter": "python",
   "pygments_lexer": "ipython3",
   "version": "3.12.1"
  }
 },
 "nbformat": 4,
 "nbformat_minor": 5
}
