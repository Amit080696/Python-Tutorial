{
 "cells": [
  {
   "cell_type": "code",
   "execution_count": 1,
   "id": "8e5a2d72-1bc0-4969-995c-9fa8d27641d0",
   "metadata": {},
   "outputs": [
    {
     "data": {
      "text/plain": [
       "[2, 4, 6]"
      ]
     },
     "execution_count": 1,
     "metadata": {},
     "output_type": "execute_result"
    }
   ],
   "source": [
    "#method1\n",
    "def even_num(num):\n",
    "    if num %2 ==0:\n",
    "        return True\n",
    "        \n",
    "lst = [1,2,3,4,5,6,7]\n",
    "list(filter(even_num, lst))"
   ]
  },
  {
   "cell_type": "code",
   "execution_count": 2,
   "id": "5c4b27a8-d835-454f-9190-d23d9e211779",
   "metadata": {},
   "outputs": [
    {
     "data": {
      "text/plain": [
       "[2, 4, 6]"
      ]
     },
     "execution_count": 2,
     "metadata": {},
     "output_type": "execute_result"
    }
   ],
   "source": [
    "#method2\n",
    "#using filter with lamda\n",
    "list(filter(lambda x: x % 2 == 0, lst))"
   ]
  },
  {
   "cell_type": "code",
   "execution_count": 3,
   "id": "7c71504c-f8da-4609-90cc-d77244b4f00d",
   "metadata": {},
   "outputs": [
    {
     "data": {
      "text/plain": [
       "[False, True, False, True, False, True, False]"
      ]
     },
     "execution_count": 3,
     "metadata": {},
     "output_type": "execute_result"
    }
   ],
   "source": [
    "#convert to map\n",
    "list(map(lambda x: x % 2 == 0, lst))"
   ]
  },
  {
   "cell_type": "markdown",
   "id": "4bf024e4-b55e-48b7-890c-f0a9b074b0c9",
   "metadata": {},
   "source": [
    "**Using Lambda with sorted():**"
   ]
  },
  {
   "cell_type": "code",
   "execution_count": 4,
   "id": "e0752a2d-e8e1-4a78-adc3-da5abf8d3c73",
   "metadata": {},
   "outputs": [
    {
     "name": "stdout",
     "output_type": "stream",
     "text": [
      "People sorted by age:\n",
      "{'name': 'Bob', 'age': 25}\n",
      "{'name': 'Alice', 'age': 30}\n",
      "{'name': 'Carol', 'age': 35}\n"
     ]
    }
   ],
   "source": [
    "people = [\n",
    "    {\"name\": \"Alice\", \"age\": 30},\n",
    "    {\"name\": \"Bob\", \"age\": 25},\n",
    "    {\"name\": \"Carol\", \"age\": 35}\n",
    "]\n",
    "\n",
    "# Sort people by age using a lambda function as the key\n",
    "sorted_people = sorted(people, key=lambda person: person[\"age\"])\n",
    "\n",
    "print(\"People sorted by age:\")\n",
    "for person in sorted_people:\n",
    "    print(person)"
   ]
  }
 ],
 "metadata": {
  "kernelspec": {
   "display_name": "Python 3 (ipykernel)",
   "language": "python",
   "name": "python3"
  },
  "language_info": {
   "codemirror_mode": {
    "name": "ipython",
    "version": 3
   },
   "file_extension": ".py",
   "mimetype": "text/x-python",
   "name": "python",
   "nbconvert_exporter": "python",
   "pygments_lexer": "ipython3",
   "version": "3.12.1"
  }
 },
 "nbformat": 4,
 "nbformat_minor": 5
}
