{
 "cells": [
  {
   "cell_type": "code",
   "execution_count": null,
   "id": "3dc189fb-1191-4678-ad87-84b9a00acfdd",
   "metadata": {},
   "outputs": [],
   "source": [
    "# =, copy(), deepcopy()"
   ]
  },
  {
   "cell_type": "code",
   "execution_count": 1,
   "id": "ce298426-8f03-4f1e-a40e-cb31b44a84eb",
   "metadata": {},
   "outputs": [],
   "source": [
    "lst1 = [1,2,3,4]\n",
    "lst2 = lst1"
   ]
  },
  {
   "cell_type": "code",
   "execution_count": 2,
   "id": "3ce68335-c7ef-469d-87a0-5018214af64b",
   "metadata": {},
   "outputs": [
    {
     "data": {
      "text/plain": [
       "[1, 1000, 3, 4]"
      ]
     },
     "execution_count": 2,
     "metadata": {},
     "output_type": "execute_result"
    }
   ],
   "source": [
    "lst2[1] = 1000\n",
    "lst2"
   ]
  },
  {
   "cell_type": "code",
   "execution_count": 3,
   "id": "75e46f25-446a-4557-901c-02f4521a84c0",
   "metadata": {},
   "outputs": [
    {
     "data": {
      "text/plain": [
       "[1, 1000, 3, 4]"
      ]
     },
     "execution_count": 3,
     "metadata": {},
     "output_type": "execute_result"
    }
   ],
   "source": [
    "lst1 # lst1 also has been updated cause they are using same referance"
   ]
  },
  {
   "cell_type": "code",
   "execution_count": 4,
   "id": "d6ac5d2c-6c05-4550-98ba-13e6a13c3fdc",
   "metadata": {},
   "outputs": [],
   "source": [
    "#Copy - also called shallow copy\n",
    "lst1 = [1,2,3,4]\n",
    "lst2 = lst1.copy() # its using deffrenet memory refrance"
   ]
  },
  {
   "cell_type": "code",
   "execution_count": 5,
   "id": "fc16d4c7-b5ad-422b-b237-ea2bd2790187",
   "metadata": {},
   "outputs": [
    {
     "data": {
      "text/plain": [
       "([1, 1000, 3, 4], [1, 2, 3, 4])"
      ]
     },
     "execution_count": 5,
     "metadata": {},
     "output_type": "execute_result"
    }
   ],
   "source": [
    "lst2[1] = 1000\n",
    "lst2, lst1 # as you can see no changes to lst1 becuase now both are having diffrent location(memory)"
   ]
  },
  {
   "cell_type": "code",
   "execution_count": 6,
   "id": "4ce7faec-4b72-4197-9a6f-50e6cb7a36b3",
   "metadata": {},
   "outputs": [],
   "source": [
    "#shallow copy with nested list\n",
    "lst1 = [[1,2,3,4],[5,6,7,8]]\n",
    "lst2 = lst1.copy() "
   ]
  },
  {
   "cell_type": "code",
   "execution_count": 7,
   "id": "b0e8cd73-8ca7-4e13-921e-0bc445909609",
   "metadata": {},
   "outputs": [
    {
     "data": {
      "text/plain": [
       "[[1, 2, 3, 4], [5, 6, 7, 8]]"
      ]
     },
     "execution_count": 7,
     "metadata": {},
     "output_type": "execute_result"
    }
   ],
   "source": [
    "lst1"
   ]
  },
  {
   "cell_type": "code",
   "execution_count": 8,
   "id": "ac0551c6-2103-40b6-9ea1-7242da5ad95d",
   "metadata": {},
   "outputs": [
    {
     "data": {
      "text/plain": [
       "[[1, 2, 3, 4], [5, 6, 7, 8]]"
      ]
     },
     "execution_count": 8,
     "metadata": {},
     "output_type": "execute_result"
    }
   ],
   "source": [
    "lst2"
   ]
  },
  {
   "cell_type": "code",
   "execution_count": 9,
   "id": "52c9225e-ec1d-41d1-8bad-caff33044d4d",
   "metadata": {},
   "outputs": [],
   "source": [
    "lst1[1][0] = 100"
   ]
  },
  {
   "cell_type": "code",
   "execution_count": 10,
   "id": "5f2c96ad-1402-4172-b4fd-7047a8bc6e77",
   "metadata": {},
   "outputs": [
    {
     "data": {
      "text/plain": [
       "[[1, 2, 3, 4], [100, 6, 7, 8]]"
      ]
     },
     "execution_count": 10,
     "metadata": {},
     "output_type": "execute_result"
    }
   ],
   "source": [
    "lst1"
   ]
  },
  {
   "cell_type": "code",
   "execution_count": 11,
   "id": "c91abc48-2c09-409c-8cd2-2ff7a188dbd3",
   "metadata": {},
   "outputs": [
    {
     "data": {
      "text/plain": [
       "[[1, 2, 3, 4], [100, 6, 7, 8]]"
      ]
     },
     "execution_count": 11,
     "metadata": {},
     "output_type": "execute_result"
    }
   ],
   "source": [
    "lst2"
   ]
  },
  {
   "cell_type": "code",
   "execution_count": 12,
   "id": "a9ca2c12-289b-4aef-9d60-31abe9260486",
   "metadata": {},
   "outputs": [],
   "source": [
    "#now i'm adding another list to existing lst1 and the changes will not reflect to lst2 this is the shallow copy\n",
    "\n",
    "lst1.append([2,3,4,5])"
   ]
  },
  {
   "cell_type": "code",
   "execution_count": 13,
   "id": "1c24c486-8edd-4ea4-bdd4-fd1715a4e863",
   "metadata": {},
   "outputs": [
    {
     "data": {
      "text/plain": [
       "[[1, 2, 3, 4], [100, 6, 7, 8], [2, 3, 4, 5]]"
      ]
     },
     "execution_count": 13,
     "metadata": {},
     "output_type": "execute_result"
    }
   ],
   "source": [
    "lst1"
   ]
  },
  {
   "cell_type": "code",
   "execution_count": 14,
   "id": "e7157164-e7c6-49b4-89d3-4f14a18f8ff6",
   "metadata": {},
   "outputs": [
    {
     "data": {
      "text/plain": [
       "[[1, 2, 3, 4], [100, 6, 7, 8]]"
      ]
     },
     "execution_count": 14,
     "metadata": {},
     "output_type": "execute_result"
    }
   ],
   "source": [
    "lst2"
   ]
  },
  {
   "cell_type": "code",
   "execution_count": null,
   "id": "4046e6da-6d59-4555-9cd4-6b9a5d112b94",
   "metadata": {},
   "outputs": [],
   "source": [
    "#deep copy"
   ]
  },
  {
   "cell_type": "code",
   "execution_count": 19,
   "id": "f48b639e-d147-4f1f-9d1b-ad3d3d65ff74",
   "metadata": {},
   "outputs": [],
   "source": [
    "import copy\n",
    "lst1 = [1,2,3,4]\n",
    "lst2 = copy.deepcopy(lst1)"
   ]
  },
  {
   "cell_type": "code",
   "execution_count": 21,
   "id": "76f381c5-2922-46a6-a04e-35aed14d32e5",
   "metadata": {},
   "outputs": [],
   "source": [
    "lst2[1] = 100"
   ]
  },
  {
   "cell_type": "code",
   "execution_count": 22,
   "id": "ee353c78-c69f-44db-993a-279831cdd542",
   "metadata": {},
   "outputs": [
    {
     "data": {
      "text/plain": [
       "[1, 100, 3, 4]"
      ]
     },
     "execution_count": 22,
     "metadata": {},
     "output_type": "execute_result"
    }
   ],
   "source": [
    "lst2"
   ]
  },
  {
   "cell_type": "code",
   "execution_count": 23,
   "id": "6f27d965-df86-466b-919e-f996f9d88418",
   "metadata": {},
   "outputs": [
    {
     "data": {
      "text/plain": [
       "[1, 2, 3, 4]"
      ]
     },
     "execution_count": 23,
     "metadata": {},
     "output_type": "execute_result"
    }
   ],
   "source": [
    "lst1  #no changes to lst1 after applying deep copy\n",
    "\n",
    "# note - in a normal list shallow copy == deep copy"
   ]
  },
  {
   "cell_type": "code",
   "execution_count": 24,
   "id": "b89f9d13-aa78-4e95-99c9-440b36eab04f",
   "metadata": {},
   "outputs": [],
   "source": [
    "lst1 = [[1,2,3],[4,5,6],[7,8,9]]\n",
    "lst2 = copy.deepcopy(lst1)"
   ]
  },
  {
   "cell_type": "code",
   "execution_count": 25,
   "id": "43560a58-a3dd-436b-88e6-6d85c4e932bc",
   "metadata": {},
   "outputs": [],
   "source": [
    "lst2[1][0] = 100"
   ]
  },
  {
   "cell_type": "code",
   "execution_count": 26,
   "id": "b5c892d5-d354-4930-9663-a5fe0b0855e4",
   "metadata": {},
   "outputs": [
    {
     "data": {
      "text/plain": [
       "[[1, 2, 3], [100, 5, 6], [7, 8, 9]]"
      ]
     },
     "execution_count": 26,
     "metadata": {},
     "output_type": "execute_result"
    }
   ],
   "source": [
    "lst2"
   ]
  },
  {
   "cell_type": "code",
   "execution_count": 27,
   "id": "5537829d-ee5b-43dc-8df5-4c21edcc3f4d",
   "metadata": {},
   "outputs": [
    {
     "data": {
      "text/plain": [
       "[[1, 2, 3], [4, 5, 6], [7, 8, 9]]"
      ]
     },
     "execution_count": 27,
     "metadata": {},
     "output_type": "execute_result"
    }
   ],
   "source": [
    "lst1  # see no changes to lst1 "
   ]
  }
 ],
 "metadata": {
  "kernelspec": {
   "display_name": "Python 3 (ipykernel)",
   "language": "python",
   "name": "python3"
  },
  "language_info": {
   "codemirror_mode": {
    "name": "ipython",
    "version": 3
   },
   "file_extension": ".py",
   "mimetype": "text/x-python",
   "name": "python",
   "nbconvert_exporter": "python",
   "pygments_lexer": "ipython3",
   "version": "3.12.1"
  }
 },
 "nbformat": 4,
 "nbformat_minor": 5
}
