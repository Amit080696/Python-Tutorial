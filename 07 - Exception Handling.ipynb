{
 "cells": [
  {
   "cell_type": "code",
   "execution_count": 1,
   "id": "e78e9e35-0dbb-453e-87b6-5014371f421d",
   "metadata": {},
   "outputs": [
    {
     "name": "stdin",
     "output_type": "stream",
     "text": [
      "Enter the Number 1:  12\n",
      "Enter the Number 2:  0\n"
     ]
    },
    {
     "name": "stdout",
     "output_type": "stream",
     "text": [
      "Please provide number greater than 0.\n"
     ]
    }
   ],
   "source": [
    "# try and else block\n",
    "try:\n",
    "    ## code block where exception can occur\n",
    "    a = int(input(\"Enter the Number 1: \"))\n",
    "    b = int(input(\"Enter the Number 2: \"))\n",
    "    c = a/b\n",
    "    d = a*b\n",
    "    e = a+b\n",
    "    \n",
    "except NameError:\n",
    "    print('The user have not defined the variable.')\n",
    "\n",
    "except ZeroDivisionError:\n",
    "    print('Please provide number greater than 0.')\n",
    "\n",
    "except TypeError:\n",
    "    print('Try to make the datatype similar.')\n",
    "    \n",
    "except Exception as ex:  #The Exception always should be on the bottom  \n",
    "    print(ex)\n",
    "else:\n",
    "    print(c)\n",
    "    print(d)\n",
    "    print(e)"
   ]
  },
  {
   "cell_type": "code",
   "execution_count": 2,
   "id": "d3ec25a1-8c3a-49a2-9b6e-a93ae055b8f0",
   "metadata": {},
   "outputs": [
    {
     "name": "stdin",
     "output_type": "stream",
     "text": [
      "Enter the Number 1:  12\n",
      "Enter the Number 2:  4\n"
     ]
    },
    {
     "name": "stdout",
     "output_type": "stream",
     "text": [
      "3.0\n",
      "The execution is Done!\n"
     ]
    }
   ],
   "source": [
    "#try else and finally block\n",
    "\n",
    "try:\n",
    "    ## code block where exception can occur\n",
    "    a = int(input(\"Enter the Number 1: \"))\n",
    "    b = int(input(\"Enter the Number 2: \"))\n",
    "    c = a/b\n",
    "    \n",
    "except NameError:\n",
    "    print('The user have not defined the variable.')\n",
    "\n",
    "except ZeroDivisionError:\n",
    "    print('Please provide number greater than 0.')\n",
    "\n",
    "except TypeError:\n",
    "    print('Try to make the datatype similar.')\n",
    "    \n",
    "except Exception as ex:  #The Exception always should be on the bottom  \n",
    "    print(ex)\n",
    "else:\n",
    "    print(c)\n",
    "finally: # finally block will always get printed\n",
    "    print(\"The execution is Done!\")"
   ]
  },
  {
   "cell_type": "markdown",
   "id": "a5dc5a2c-8ba3-4d7e-a037-32f49fef6c73",
   "metadata": {},
   "source": [
    "#### Custom Exception"
   ]
  },
  {
   "cell_type": "code",
   "execution_count": 3,
   "id": "a7606a93-2fdc-41ad-bd79-5ee3432bbc63",
   "metadata": {},
   "outputs": [],
   "source": [
    "class Error(Exception):\n",
    "    pass\n",
    "\n",
    "class dobException(Error):\n",
    "    pass\n",
    "\n",
    "class customgeneric(Error):\n",
    "    pass"
   ]
  },
  {
   "cell_type": "code",
   "execution_count": 5,
   "id": "e512003e-1713-4759-9a28-33767d78b384",
   "metadata": {},
   "outputs": [
    {
     "name": "stdin",
     "output_type": "stream",
     "text": [
      "Please enter the year of Birth:  1996\n"
     ]
    },
    {
     "name": "stdout",
     "output_type": "stream",
     "text": [
      "The age is valid. You can apply for the Exams\n"
     ]
    }
   ],
   "source": [
    "year = int(input(\"Please enter the year of Birth: \"))\n",
    "age = 2024 - year\n",
    "try:\n",
    "    if age <= 30 and age >= 20:\n",
    "        print(\"The age is valid. You can apply for the Exams\")\n",
    "    else:\n",
    "        raise dobException\n",
    "except dobException:\n",
    "    print(\"The age not within the Range. You can not apply for the Exams\")    "
   ]
  },
  {
   "cell_type": "code",
   "execution_count": 10,
   "id": "904bf808-47aa-45b6-96f1-2b63b2adb087",
   "metadata": {},
   "outputs": [
    {
     "ename": "SyntaxError",
     "evalue": "incomplete input (2156807455.py, line 3)",
     "output_type": "error",
     "traceback": [
      "\u001b[0;36m  Cell \u001b[0;32mIn[10], line 3\u001b[0;36m\u001b[0m\n\u001b[0;31m    if age <= 30 and age >=20:\u001b[0m\n\u001b[0m                              ^\u001b[0m\n\u001b[0;31mSyntaxError\u001b[0m\u001b[0;31m:\u001b[0m incomplete input\n"
     ]
    }
   ],
   "source": []
  }
 ],
 "metadata": {
  "kernelspec": {
   "display_name": "Python 3 (ipykernel)",
   "language": "python",
   "name": "python3"
  },
  "language_info": {
   "codemirror_mode": {
    "name": "ipython",
    "version": 3
   },
   "file_extension": ".py",
   "mimetype": "text/x-python",
   "name": "python",
   "nbconvert_exporter": "python",
   "pygments_lexer": "ipython3",
   "version": "3.12.1"
  }
 },
 "nbformat": 4,
 "nbformat_minor": 5
}
