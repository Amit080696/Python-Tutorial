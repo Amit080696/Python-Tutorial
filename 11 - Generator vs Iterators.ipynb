{
 "cells": [
  {
   "cell_type": "code",
   "execution_count": 1,
   "id": "56bf2968-955c-43a8-87e4-cd32f30d0cfb",
   "metadata": {},
   "outputs": [
    {
     "name": "stdout",
     "output_type": "stream",
     "text": [
      "1\n",
      "2\n",
      "3\n",
      "4\n"
     ]
    }
   ],
   "source": [
    "#iterable\n",
    "lst = [1,2,3,4]\n",
    "for i in lst:\n",
    "    print(i)"
   ]
  },
  {
   "cell_type": "code",
   "execution_count": 2,
   "id": "51323711-26c4-4b0c-a042-6f7b4289b7b5",
   "metadata": {},
   "outputs": [],
   "source": [
    "#iterator\n",
    "iterable = iter(lst)"
   ]
  },
  {
   "cell_type": "code",
   "execution_count": 3,
   "id": "1c1337f4-203b-4616-a3f2-63710481b05b",
   "metadata": {},
   "outputs": [
    {
     "data": {
      "text/plain": [
       "list_iterator"
      ]
     },
     "execution_count": 3,
     "metadata": {},
     "output_type": "execute_result"
    }
   ],
   "source": [
    "type(iterable)"
   ]
  },
  {
   "cell_type": "code",
   "execution_count": 4,
   "id": "df831749-57c9-4e52-97f7-f1dfe541857c",
   "metadata": {},
   "outputs": [
    {
     "name": "stdout",
     "output_type": "stream",
     "text": [
      "1\n",
      "2\n",
      "3\n",
      "4\n"
     ]
    }
   ],
   "source": [
    "#we can iterate\n",
    "for i in iterable:\n",
    "    print(i)"
   ]
  },
  {
   "cell_type": "code",
   "execution_count": 5,
   "id": "696ad386-814f-48be-bf07-1e7a84efb606",
   "metadata": {},
   "outputs": [
    {
     "data": {
      "text/plain": [
       "<list_iterator at 0x107d90070>"
      ]
     },
     "execution_count": 5,
     "metadata": {},
     "output_type": "execute_result"
    }
   ],
   "source": [
    "iterable"
   ]
  },
  {
   "cell_type": "code",
   "execution_count": 6,
   "id": "381928e0-4b53-44c6-bbe7-6bbe57b05d2d",
   "metadata": {},
   "outputs": [],
   "source": [
    "# iterate again\n",
    "iterable = iter(lst)"
   ]
  },
  {
   "cell_type": "code",
   "execution_count": 7,
   "id": "3d6c59d4-4bb4-4126-9dde-6059f6124e54",
   "metadata": {},
   "outputs": [
    {
     "name": "stdout",
     "output_type": "stream",
     "text": [
      "1\n"
     ]
    }
   ],
   "source": [
    "#another method\n",
    "try:\n",
    "    print(next(iterable))\n",
    "except StopIteration:\n",
    "    print(\"The Iterator is empty\")"
   ]
  },
  {
   "cell_type": "code",
   "execution_count": 8,
   "id": "2c7fca66-d5f2-4637-a868-e105e2d4fcf9",
   "metadata": {},
   "outputs": [
    {
     "name": "stdout",
     "output_type": "stream",
     "text": [
      "1\n",
      "4\n",
      "9\n",
      "16\n",
      "25\n",
      "36\n",
      "49\n",
      "64\n"
     ]
    }
   ],
   "source": [
    "#Generaror\n",
    "def sq_numbers(n):\n",
    "    for i in range(1, n+1):\n",
    "        yield i*i\n",
    "\n",
    "a = sq_numbers(8)\n",
    "for i in a:\n",
    "    print(i)"
   ]
  },
  {
   "cell_type": "markdown",
   "id": "a1015cdf-e8a6-4d6e-9319-77ab610f9727",
   "metadata": {},
   "source": [
    "#### Diffrences"
   ]
  },
  {
   "cell_type": "markdown",
   "id": "f54ca669-7c29-49d1-8beb-2d65a17ec21e",
   "metadata": {},
   "source": [
    "1. To create an iterator we use iter() and to generator we use function along with yield Keyword.\n",
    "2. Generator used the yield ketword. It saves the local variable.\n",
    "3. Generator in Python helps us to write fast and compact code.\n",
    "4. Python itertor is much more memory efficient"
   ]
  },
  {
   "cell_type": "code",
   "execution_count": 9,
   "id": "bd2c1c29-c202-4e8e-8423-e0e3f58167bd",
   "metadata": {},
   "outputs": [
    {
     "name": "stdout",
     "output_type": "stream",
     "text": [
      "True\n"
     ]
    }
   ],
   "source": [
    "import types\n",
    "from types import GeneratorType\n",
    "from collections.abc import Iterator\n",
    "\n",
    "# Check if GeneratorType is a subclass of Iterator\n",
    "result = issubclass(GeneratorType, Iterator)\n",
    "print(result)"
   ]
  }
 ],
 "metadata": {
  "kernelspec": {
   "display_name": "Python 3 (ipykernel)",
   "language": "python",
   "name": "python3"
  },
  "language_info": {
   "codemirror_mode": {
    "name": "ipython",
    "version": 3
   },
   "file_extension": ".py",
   "mimetype": "text/x-python",
   "name": "python",
   "nbconvert_exporter": "python",
   "pygments_lexer": "ipython3",
   "version": "3.12.1"
  }
 },
 "nbformat": 4,
 "nbformat_minor": 5
}
