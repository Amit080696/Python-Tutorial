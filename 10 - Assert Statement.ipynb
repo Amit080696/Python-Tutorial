{
 "cells": [
  {
   "cell_type": "markdown",
   "id": "b911ccd1-9566-4992-9180-319539e34146",
   "metadata": {},
   "source": [
    "The assert keyword is used when debugging code. The assert keyword lets you test if a condition in your code returns True, if not, the program will raise an AssertionError. You can write a message to be written if the code returns False."
   ]
  },
  {
   "cell_type": "code",
   "execution_count": 1,
   "id": "dcd85fb2-082b-48f7-9b0c-d6609d9ab2df",
   "metadata": {},
   "outputs": [
    {
     "ename": "AssertionError",
     "evalue": "",
     "output_type": "error",
     "traceback": [
      "\u001b[0;31m---------------------------------------------------------------------------\u001b[0m",
      "\u001b[0;31mAssertionError\u001b[0m                            Traceback (most recent call last)",
      "Cell \u001b[0;32mIn[1], line 2\u001b[0m\n\u001b[1;32m      1\u001b[0m num \u001b[38;5;241m=\u001b[39m \u001b[38;5;241m10\u001b[39m\n\u001b[0;32m----> 2\u001b[0m \u001b[38;5;28;01massert\u001b[39;00m num \u001b[38;5;241m>\u001b[39m \u001b[38;5;241m10\u001b[39m\n",
      "\u001b[0;31mAssertionError\u001b[0m: "
     ]
    }
   ],
   "source": [
    "num = 10\n",
    "assert num > 10"
   ]
  },
  {
   "cell_type": "code",
   "execution_count": 2,
   "id": "f837d733-421e-4fbf-9289-03c4e0e5d5ce",
   "metadata": {},
   "outputs": [
    {
     "name": "stdin",
     "output_type": "stream",
     "text": [
      "Enter the Number:  13\n"
     ]
    },
    {
     "name": "stdout",
     "output_type": "stream",
     "text": [
      "Please enter the Even Number\n"
     ]
    }
   ],
   "source": [
    "try:\n",
    "    num = int(input(\"Enter the Number: \"))\n",
    "    assert num%2 ==0\n",
    "    print(\"The number is even\")\n",
    "except AssertionError:\n",
    "    print(\"Please enter the Even Number\")"
   ]
  }
 ],
 "metadata": {
  "kernelspec": {
   "display_name": "Python 3 (ipykernel)",
   "language": "python",
   "name": "python3"
  },
  "language_info": {
   "codemirror_mode": {
    "name": "ipython",
    "version": 3
   },
   "file_extension": ".py",
   "mimetype": "text/x-python",
   "name": "python",
   "nbconvert_exporter": "python",
   "pygments_lexer": "ipython3",
   "version": "3.12.1"
  }
 },
 "nbformat": 4,
 "nbformat_minor": 5
}
