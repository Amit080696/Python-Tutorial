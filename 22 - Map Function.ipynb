{
 "cells": [
  {
   "cell_type": "code",
   "execution_count": 1,
   "id": "6207398b-a335-497f-aba9-c50df5fd8200",
   "metadata": {},
   "outputs": [
    {
     "data": {
      "text/plain": [
       "'The number 24 is even.'"
      ]
     },
     "execution_count": 1,
     "metadata": {},
     "output_type": "execute_result"
    }
   ],
   "source": [
    "def even_or_odd(num):\n",
    "    if num%2 ==0:\n",
    "        return \"The number {} is even.\".format(num)\n",
    "    else:\n",
    "        return \"The Number {} is odd.\".format(num)\n",
    "even_or_odd(24)"
   ]
  },
  {
   "cell_type": "code",
   "execution_count": 5,
   "id": "7b86d2c6-a795-4bd8-bab3-c3a35506dda0",
   "metadata": {},
   "outputs": [
    {
     "data": {
      "text/plain": [
       "['The Number 1 is odd.',\n",
       " 'The number 2 is even.',\n",
       " 'The Number 3 is odd.',\n",
       " 'The number 4 is even.',\n",
       " 'The Number 5 is odd.',\n",
       " 'The Number 67 is odd.',\n",
       " 'The Number 7 is odd.',\n",
       " 'The number 8 is even.',\n",
       " 'The number 8 is even.',\n",
       " 'The Number 9 is odd.',\n",
       " 'The number 64 is even.',\n",
       " 'The Number 95 is odd.']"
      ]
     },
     "execution_count": 5,
     "metadata": {},
     "output_type": "execute_result"
    }
   ],
   "source": [
    "#Use of map function\n",
    "lst = [1,2,3,4,5,67,7,8,8,9,64,95]\n",
    "list(map(even_or_odd, lst))"
   ]
  },
  {
   "cell_type": "code",
   "execution_count": 6,
   "id": "2b87b306-2725-4ba5-b720-6dedfafc2ed6",
   "metadata": {},
   "outputs": [
    {
     "name": "stdout",
     "output_type": "stream",
     "text": [
      "Squared numbers: [1, 4, 9, 16, 25]\n"
     ]
    }
   ],
   "source": [
    "numbers = [1, 2, 3, 4, 5]\n",
    "squared_numbers = list(map(lambda x: x ** 2, numbers))\n",
    "\n",
    "print(\"Squared numbers:\", squared_numbers)"
   ]
  }
 ],
 "metadata": {
  "kernelspec": {
   "display_name": "Python 3 (ipykernel)",
   "language": "python",
   "name": "python3"
  },
  "language_info": {
   "codemirror_mode": {
    "name": "ipython",
    "version": 3
   },
   "file_extension": ".py",
   "mimetype": "text/x-python",
   "name": "python",
   "nbconvert_exporter": "python",
   "pygments_lexer": "ipython3",
   "version": "3.12.1"
  }
 },
 "nbformat": 4,
 "nbformat_minor": 5
}
