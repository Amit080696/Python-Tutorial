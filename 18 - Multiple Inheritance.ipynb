{
 "cells": [
  {
   "cell_type": "markdown",
   "id": "b845ae0b-b701-4b75-9184-3d84b4cc9b20",
   "metadata": {},
   "source": [
    "Multiple inheritance is a feature where a class can inherit attributes and methods from more than one parent class. This allows a class to combine and utilize the functionality of multiple classes, providing greater flexibility in design."
   ]
  },
  {
   "cell_type": "code",
   "execution_count": 1,
   "id": "48ccd3ac-96af-444c-b319-7d74d2c33b08",
   "metadata": {},
   "outputs": [],
   "source": [
    "class A:\n",
    "    def method1(self):\n",
    "        print(\"A class method is called\")\n",
    "\n",
    "class B(A):\n",
    "    def method1(self):\n",
    "        print(\"B class method is called\")\n",
    "    def method2(self):\n",
    "        print(\"B class method2 is called\")\n",
    "class C(A):\n",
    "    def method1(self):\n",
    "        print(\"C class method is called\")\n",
    "class D(B,C):\n",
    "    def method1(self):\n",
    "        print(\"D class method is called\")\n",
    "        C.method1(self)\n",
    "        B.method1(self)\n",
    "        A.method1(self)\n"
   ]
  },
  {
   "cell_type": "code",
   "execution_count": 2,
   "id": "ea1a4fbc-b4ed-4e36-8feb-e700ca664ab8",
   "metadata": {},
   "outputs": [],
   "source": [
    "d = D()"
   ]
  },
  {
   "cell_type": "code",
   "execution_count": 3,
   "id": "2423f4e6-e7e6-43c7-b6ef-efbfa0052af1",
   "metadata": {},
   "outputs": [
    {
     "name": "stdout",
     "output_type": "stream",
     "text": [
      "D class method is called\n",
      "C class method is called\n",
      "B class method is called\n",
      "A class method is called\n"
     ]
    }
   ],
   "source": [
    "d.method1()"
   ]
  },
  {
   "cell_type": "code",
   "execution_count": 4,
   "id": "9f8f042c-de7a-4c14-9a2c-3e8f23449202",
   "metadata": {},
   "outputs": [
    {
     "name": "stdout",
     "output_type": "stream",
     "text": [
      "Walking on legs\n",
      "Flying in the sky\n",
      "Echolocating for navigation\n"
     ]
    }
   ],
   "source": [
    "#Another example\n",
    "class Animal:\n",
    "    def speak(self):\n",
    "        return \"Animal sound\"\n",
    "\n",
    "class Mammal:\n",
    "    def walk(self):\n",
    "        return \"Walking on legs\"\n",
    "\n",
    "class Bird:\n",
    "    def fly(self):\n",
    "        return \"Flying in the sky\"\n",
    "\n",
    "class Bat(Mammal, Bird):\n",
    "    def echolocate(self):\n",
    "        return \"Echolocating for navigation\"\n",
    "\n",
    "bat = Bat()\n",
    "\n",
    "# Accessing methods from the parent classes\n",
    "print(bat.walk())  \n",
    "print(bat.fly())  \n",
    "print(bat.echolocate()) "
   ]
  }
 ],
 "metadata": {
  "kernelspec": {
   "display_name": "Python 3 (ipykernel)",
   "language": "python",
   "name": "python3"
  },
  "language_info": {
   "codemirror_mode": {
    "name": "ipython",
    "version": 3
   },
   "file_extension": ".py",
   "mimetype": "text/x-python",
   "name": "python",
   "nbconvert_exporter": "python",
   "pygments_lexer": "ipython3",
   "version": "3.12.1"
  }
 },
 "nbformat": 4,
 "nbformat_minor": 5
}
