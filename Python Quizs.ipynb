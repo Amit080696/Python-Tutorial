{
 "cells": [
  {
   "cell_type": "code",
   "execution_count": 1,
   "id": "7e3c069e-b107-49a4-bbf7-02df531b28f3",
   "metadata": {},
   "outputs": [
    {
     "data": {
      "text/html": [
       "<div>\n",
       "<style scoped>\n",
       "    .dataframe tbody tr th:only-of-type {\n",
       "        vertical-align: middle;\n",
       "    }\n",
       "\n",
       "    .dataframe tbody tr th {\n",
       "        vertical-align: top;\n",
       "    }\n",
       "\n",
       "    .dataframe thead th {\n",
       "        text-align: right;\n",
       "    }\n",
       "</style>\n",
       "<table border=\"1\" class=\"dataframe\">\n",
       "  <thead>\n",
       "    <tr style=\"text-align: right;\">\n",
       "      <th></th>\n",
       "      <th>gender</th>\n",
       "      <th>age</th>\n",
       "    </tr>\n",
       "  </thead>\n",
       "  <tbody>\n",
       "    <tr>\n",
       "      <th>0</th>\n",
       "      <td>male</td>\n",
       "      <td>25.0</td>\n",
       "    </tr>\n",
       "    <tr>\n",
       "      <th>1</th>\n",
       "      <td>female</td>\n",
       "      <td>30.0</td>\n",
       "    </tr>\n",
       "    <tr>\n",
       "      <th>2</th>\n",
       "      <td>male</td>\n",
       "      <td>27.0</td>\n",
       "    </tr>\n",
       "    <tr>\n",
       "      <th>3</th>\n",
       "      <td>female</td>\n",
       "      <td>32.0</td>\n",
       "    </tr>\n",
       "  </tbody>\n",
       "</table>\n",
       "</div>"
      ],
      "text/plain": [
       "   gender   age\n",
       "0    male  25.0\n",
       "1  female  30.0\n",
       "2    male  27.0\n",
       "3  female  32.0"
      ]
     },
     "execution_count": 1,
     "metadata": {},
     "output_type": "execute_result"
    }
   ],
   "source": [
    "import warnings\n",
    "warnings.filterwarnings('ignore')\n",
    "import pandas as pd\n",
    "\n",
    "# Sample DataFrame\n",
    "data = {'gender': ['male', 'female', 'male', 'female'],\n",
    "        'age': [25.0, 30.0, 27.0, 32.0]}\n",
    "df = pd.DataFrame(data)\n",
    "df.dtypes\n",
    "df.select_dtypes(include = ['object' , 'float'])[['gender' , 'age']]"
   ]
  },
  {
   "cell_type": "code",
   "execution_count": 2,
   "id": "cbd4f6da-c927-4a58-b571-0d82141338b5",
   "metadata": {},
   "outputs": [
    {
     "data": {
      "text/html": [
       "<div>\n",
       "<style scoped>\n",
       "    .dataframe tbody tr th:only-of-type {\n",
       "        vertical-align: middle;\n",
       "    }\n",
       "\n",
       "    .dataframe tbody tr th {\n",
       "        vertical-align: top;\n",
       "    }\n",
       "\n",
       "    .dataframe thead th {\n",
       "        text-align: right;\n",
       "    }\n",
       "</style>\n",
       "<table border=\"1\" class=\"dataframe\">\n",
       "  <thead>\n",
       "    <tr style=\"text-align: right;\">\n",
       "      <th></th>\n",
       "      <th>gender</th>\n",
       "      <th>mean</th>\n",
       "      <th>sum</th>\n",
       "      <th>count</th>\n",
       "    </tr>\n",
       "  </thead>\n",
       "  <tbody>\n",
       "    <tr>\n",
       "      <th>0</th>\n",
       "      <td>female</td>\n",
       "      <td>31.0</td>\n",
       "      <td>62.0</td>\n",
       "      <td>2</td>\n",
       "    </tr>\n",
       "    <tr>\n",
       "      <th>1</th>\n",
       "      <td>male</td>\n",
       "      <td>26.0</td>\n",
       "      <td>52.0</td>\n",
       "      <td>2</td>\n",
       "    </tr>\n",
       "  </tbody>\n",
       "</table>\n",
       "</div>"
      ],
      "text/plain": [
       "   gender  mean   sum  count\n",
       "0  female  31.0  62.0      2\n",
       "1    male  26.0  52.0      2"
      ]
     },
     "execution_count": 2,
     "metadata": {},
     "output_type": "execute_result"
    }
   ],
   "source": [
    "df.groupby('gender')['age'].agg(['mean', 'sum', 'count']).reset_index()"
   ]
  },
  {
   "cell_type": "code",
   "execution_count": 3,
   "id": "f3931451-afa0-42c6-955e-e63b7f4d5368",
   "metadata": {},
   "outputs": [
    {
     "data": {
      "text/html": [
       "<div>\n",
       "<style scoped>\n",
       "    .dataframe tbody tr th:only-of-type {\n",
       "        vertical-align: middle;\n",
       "    }\n",
       "\n",
       "    .dataframe tbody tr th {\n",
       "        vertical-align: top;\n",
       "    }\n",
       "\n",
       "    .dataframe thead th {\n",
       "        text-align: right;\n",
       "    }\n",
       "</style>\n",
       "<table border=\"1\" class=\"dataframe\">\n",
       "  <thead>\n",
       "    <tr style=\"text-align: right;\">\n",
       "      <th></th>\n",
       "      <th>gender</th>\n",
       "      <th>department</th>\n",
       "      <th>age</th>\n",
       "      <th>salary</th>\n",
       "      <th>award</th>\n",
       "    </tr>\n",
       "  </thead>\n",
       "  <tbody>\n",
       "    <tr>\n",
       "      <th>0</th>\n",
       "      <td>female</td>\n",
       "      <td>B</td>\n",
       "      <td>62</td>\n",
       "      <td>125000</td>\n",
       "      <td>7</td>\n",
       "    </tr>\n",
       "    <tr>\n",
       "      <th>1</th>\n",
       "      <td>male</td>\n",
       "      <td>A</td>\n",
       "      <td>52</td>\n",
       "      <td>105000</td>\n",
       "      <td>3</td>\n",
       "    </tr>\n",
       "  </tbody>\n",
       "</table>\n",
       "</div>"
      ],
      "text/plain": [
       "   gender department  age  salary  award\n",
       "0  female          B   62  125000      7\n",
       "1    male          A   52  105000      3"
      ]
     },
     "execution_count": 3,
     "metadata": {},
     "output_type": "execute_result"
    }
   ],
   "source": [
    "data = {'gender': ['male', 'female', 'male', 'female'],\n",
    "        'department': ['A', 'B', 'A', 'B'],\n",
    "        'age': [25, 30, 27, 32],\n",
    "        'salary': [50000, 60000, 55000, 65000],\n",
    "        'award': [2, 3, 1, 4]}\n",
    "df = pd.DataFrame(data)\n",
    "\n",
    "df.groupby(['gender', 'department']).agg({'age':'sum',\n",
    "                                  'salary':'sum',\n",
    "                                  'award': 'sum'}).reset_index()"
   ]
  },
  {
   "cell_type": "code",
   "execution_count": 4,
   "id": "4d8ea83b-d1f1-4a7f-93b7-8eb883612ce4",
   "metadata": {},
   "outputs": [
    {
     "data": {
      "text/html": [
       "<div>\n",
       "<style scoped>\n",
       "    .dataframe tbody tr th:only-of-type {\n",
       "        vertical-align: middle;\n",
       "    }\n",
       "\n",
       "    .dataframe tbody tr th {\n",
       "        vertical-align: top;\n",
       "    }\n",
       "\n",
       "    .dataframe thead th {\n",
       "        text-align: right;\n",
       "    }\n",
       "</style>\n",
       "<table border=\"1\" class=\"dataframe\">\n",
       "  <thead>\n",
       "    <tr style=\"text-align: right;\">\n",
       "      <th></th>\n",
       "      <th>gender</th>\n",
       "      <th>department</th>\n",
       "      <th>age</th>\n",
       "      <th>salary</th>\n",
       "      <th>award</th>\n",
       "    </tr>\n",
       "  </thead>\n",
       "  <tbody>\n",
       "    <tr>\n",
       "      <th>0</th>\n",
       "      <td>male</td>\n",
       "      <td>A</td>\n",
       "      <td>27</td>\n",
       "      <td>55000</td>\n",
       "      <td>1</td>\n",
       "    </tr>\n",
       "    <tr>\n",
       "      <th>1</th>\n",
       "      <td>male</td>\n",
       "      <td>A</td>\n",
       "      <td>25</td>\n",
       "      <td>50000</td>\n",
       "      <td>2</td>\n",
       "    </tr>\n",
       "    <tr>\n",
       "      <th>2</th>\n",
       "      <td>female</td>\n",
       "      <td>B</td>\n",
       "      <td>32</td>\n",
       "      <td>65000</td>\n",
       "      <td>4</td>\n",
       "    </tr>\n",
       "    <tr>\n",
       "      <th>3</th>\n",
       "      <td>female</td>\n",
       "      <td>B</td>\n",
       "      <td>30</td>\n",
       "      <td>60000</td>\n",
       "      <td>3</td>\n",
       "    </tr>\n",
       "  </tbody>\n",
       "</table>\n",
       "</div>"
      ],
      "text/plain": [
       "   gender department  age  salary  award\n",
       "0    male          A   27   55000      1\n",
       "1    male          A   25   50000      2\n",
       "2  female          B   32   65000      4\n",
       "3  female          B   30   60000      3"
      ]
     },
     "execution_count": 4,
     "metadata": {},
     "output_type": "execute_result"
    }
   ],
   "source": [
    "#df.groupby('department')['salary'].nlargest(2).reset_index(level=0)\n",
    "\n",
    "df.groupby('department').apply(lambda x : x.nlargest(2, 'salary')).reset_index(drop = True)"
   ]
  },
  {
   "cell_type": "code",
   "execution_count": 5,
   "id": "3f3c2f49-6534-48b1-90ae-c30de19daa3f",
   "metadata": {},
   "outputs": [
    {
     "name": "stdout",
     "output_type": "stream",
     "text": [
      "apple\n",
      "orange\n"
     ]
    }
   ],
   "source": [
    "fruits = ['apple', 'banana', 'apricot', 'orange', 'avocado']\n",
    "\n",
    "new_list = [x for x in fruits if x[-1] =='e']\n",
    "for i in new_list:\n",
    "    print(i)"
   ]
  },
  {
   "cell_type": "code",
   "execution_count": 6,
   "id": "1cc74390-3ed9-438f-b680-8e844d47563b",
   "metadata": {},
   "outputs": [
    {
     "name": "stdout",
     "output_type": "stream",
     "text": [
      "Hello\n"
     ]
    }
   ],
   "source": [
    "import time\n",
    "def after5sec():\n",
    "    time.sleep(5)\n",
    "    print(\"Hello\")\n",
    "after5sec()"
   ]
  },
  {
   "cell_type": "code",
   "execution_count": 7,
   "id": "2e99eb74-ff8c-4885-ae2f-15113af489ae",
   "metadata": {},
   "outputs": [
    {
     "name": "stdout",
     "output_type": "stream",
     "text": [
      "50\n"
     ]
    }
   ],
   "source": [
    "salary = [100, 200, 50, 20, 10]\n",
    "new_salary = [x for x in salary if x >20 and x<200]\n",
    "for i in new_salary:\n",
    "    if i !=100:\n",
    "        print(i)"
   ]
  },
  {
   "cell_type": "code",
   "execution_count": 8,
   "id": "aa4e0e22-393e-4d66-8825-a4cbe3c6212b",
   "metadata": {},
   "outputs": [
    {
     "name": "stdout",
     "output_type": "stream",
     "text": [
      "apple\n",
      "apricot\n",
      "avocado\n"
     ]
    }
   ],
   "source": [
    "for i in fruits:\n",
    "    if i.startswith('a'):\n",
    "        print(i)"
   ]
  },
  {
   "cell_type": "code",
   "execution_count": 9,
   "id": "8cefbd8d-d73b-4a37-9110-b444659eb10b",
   "metadata": {},
   "outputs": [
    {
     "name": "stdout",
     "output_type": "stream",
     "text": [
      "2\n",
      "4\n",
      "6\n"
     ]
    }
   ],
   "source": [
    "numbers = [2, 3, 4, 6, 5]\n",
    "qsr_list = [x for x in numbers if x % 2==0]\n",
    "for i in qsr_list:\n",
    "    print(i)"
   ]
  },
  {
   "cell_type": "code",
   "execution_count": 10,
   "id": "f0ccef26-aa8f-42fc-b8db-332a08bb733a",
   "metadata": {},
   "outputs": [
    {
     "name": "stdout",
     "output_type": "stream",
     "text": [
      "[('USA', 'Washington'), ('Canada', 'Ottawa'), ('UK', 'London'), ('Germany', 'Berlin')]\n"
     ]
    }
   ],
   "source": [
    "countries = [\"USA\", \"Canada\", \"UK\", \"Germany\"]\n",
    "capitals = [\"Washington\", \"Ottawa\", \"London\", \"Berlin\"]\n",
    "\n",
    "new_list = [(countries,capitals) for countries, capitals in zip(countries,capitals)]\n",
    "print(new_list)\n"
   ]
  },
  {
   "cell_type": "code",
   "execution_count": 11,
   "id": "0e3fbb93-3321-442d-946c-0cf157005307",
   "metadata": {},
   "outputs": [],
   "source": [
    "#df.columns = [col.lower() for col in df.columns]\n",
    "#df.columns = map(lambda x : x.lower(), df.columns)\n",
    "#df.applymap(lambda x: x.lower() if isinstance(x, str) else x)"
   ]
  },
  {
   "cell_type": "code",
   "execution_count": 12,
   "id": "5aa7cb9d-fa11-4b6a-a77b-020deb7c6ef7",
   "metadata": {},
   "outputs": [
    {
     "name": "stdout",
     "output_type": "stream",
     "text": [
      "[2, 3, 4, 6, 5]\n",
      "[1, 2]\n",
      "[4, 5, 6, 7]\n"
     ]
    }
   ],
   "source": [
    "numbers = [[2, 3, 4, 6, 5],[], [1,2],[],[4,5,6,7]]\n",
    "new_list = [x for x in numbers if x !=[]]\n",
    "for i in new_list:\n",
    "    print(i)"
   ]
  },
  {
   "cell_type": "markdown",
   "id": "3430204c-eda2-4b64-bee2-c310ccd4d971",
   "metadata": {},
   "source": [
    "How do you create a dictionary using list comprehension in Python?"
   ]
  },
  {
   "cell_type": "code",
   "execution_count": 5,
   "id": "bfa35875-bf6e-41bc-abc5-e62950e8866f",
   "metadata": {},
   "outputs": [
    {
     "data": {
      "text/plain": [
       "{'A': 1, 'B': 2, 'C': 3}"
      ]
     },
     "execution_count": 5,
     "metadata": {},
     "output_type": "execute_result"
    }
   ],
   "source": [
    "key = ['A','B','C']\n",
    "value = [1,2,3]\n",
    "dict = {k:v for k,v in zip(key,value)}\n",
    "dict"
   ]
  },
  {
   "cell_type": "code",
   "execution_count": 3,
   "id": "5bac7304-4650-479c-b2c8-59d28a657792",
   "metadata": {},
   "outputs": [
    {
     "data": {
      "text/plain": [
       "8"
      ]
     },
     "execution_count": 3,
     "metadata": {},
     "output_type": "execute_result"
    }
   ],
   "source": [
    "def fibonacci(n):\n",
    "    if n <= 1:\n",
    "        return n\n",
    "    else:\n",
    "        return fibonacci(n-1) +fibonacci(n-2)\n",
    "fibonacci(6)"
   ]
  },
  {
   "cell_type": "code",
   "execution_count": 5,
   "id": "b83c61f8-5653-4d6e-a1de-55bbca1fbe6d",
   "metadata": {},
   "outputs": [
    {
     "data": {
      "text/plain": [
       "120"
      ]
     },
     "execution_count": 5,
     "metadata": {},
     "output_type": "execute_result"
    }
   ],
   "source": [
    "def factorial(n):\n",
    "    if n ==0:\n",
    "        return 1\n",
    "    else:\n",
    "        return n * factorial(n-1)\n",
    "factorial(5)"
   ]
  }
 ],
 "metadata": {
  "kernelspec": {
   "display_name": "Python 3 (ipykernel)",
   "language": "python",
   "name": "python3"
  },
  "language_info": {
   "codemirror_mode": {
    "name": "ipython",
    "version": 3
   },
   "file_extension": ".py",
   "mimetype": "text/x-python",
   "name": "python",
   "nbconvert_exporter": "python",
   "pygments_lexer": "ipython3",
   "version": "3.12.1"
  }
 },
 "nbformat": 4,
 "nbformat_minor": 5
}
