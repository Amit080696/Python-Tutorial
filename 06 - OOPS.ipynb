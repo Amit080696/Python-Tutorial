{
 "cells": [
  {
   "cell_type": "markdown",
   "id": "58ff96cf-f1dd-4e31-9d40-29b39709863b",
   "metadata": {},
   "source": [
    "#### OOPS in Python"
   ]
  },
  {
   "cell_type": "code",
   "execution_count": 16,
   "id": "a4b07d63-ac0c-4c18-8ae5-1f8b5d734231",
   "metadata": {},
   "outputs": [],
   "source": [
    "class Car:\n",
    "    def __init__(self, window, door, enginetype):\n",
    "        self.windows = window   # properties inside the class(Car)\n",
    "        self.doors = door  # properties inside the class(Car)\n",
    "        self.enginetypes = enginetype # properties inside the class(Car)\n",
    "        \n",
    "    def self_driving(self):  # method inside the class(Car)\n",
    "        return \"This is a {} car\".format(self.enginetypes)"
   ]
  },
  {
   "cell_type": "markdown",
   "id": "6d5e2594-ead2-4ec0-a776-095ee1624d7f",
   "metadata": {},
   "source": [
    " __ __init__ __ its act like a constructor, constructor basiclly use in order to inisilize how many numbers of properties are getting used inside that perticular class"
   ]
  },
  {
   "cell_type": "code",
   "execution_count": 17,
   "id": "220b3e09-e9c1-4539-bcee-c0e6e782851d",
   "metadata": {},
   "outputs": [],
   "source": [
    "car1 = Car(4,5,'Petrol')\n",
    "car2 = Car(2,4,'Diesel')"
   ]
  },
  {
   "cell_type": "code",
   "execution_count": 20,
   "id": "7de0b88d-7c32-4eaa-b1d1-d0b12a4033e4",
   "metadata": {},
   "outputs": [
    {
     "data": {
      "text/plain": [
       "'This is a Petrol car'"
      ]
     },
     "execution_count": 20,
     "metadata": {},
     "output_type": "execute_result"
    }
   ],
   "source": [
    "car1.self_driving()"
   ]
  },
  {
   "cell_type": "code",
   "execution_count": 8,
   "id": "af8e82fe-26e9-441a-bd4c-906ea0ae002c",
   "metadata": {},
   "outputs": [
    {
     "name": "stdout",
     "output_type": "stream",
     "text": [
      "4\n"
     ]
    }
   ],
   "source": [
    "print(car1.windows)"
   ]
  },
  {
   "cell_type": "code",
   "execution_count": 11,
   "id": "6896f079-8004-4daf-91ac-61b3818b29d8",
   "metadata": {},
   "outputs": [
    {
     "name": "stdout",
     "output_type": "stream",
     "text": [
      "4\n"
     ]
    }
   ],
   "source": [
    "print(car2.doors)"
   ]
  },
  {
   "cell_type": "code",
   "execution_count": 10,
   "id": "8bc5dd4d-74b8-4056-85aa-b7e648a4f7aa",
   "metadata": {},
   "outputs": [
    {
     "name": "stdout",
     "output_type": "stream",
     "text": [
      "Diesel\n"
     ]
    }
   ],
   "source": [
    "print(car2.enginetypes)"
   ]
  },
  {
   "cell_type": "code",
   "execution_count": null,
   "id": "f806d73f-a133-4a18-ba8f-dc2a0abe11e8",
   "metadata": {},
   "outputs": [],
   "source": []
  },
  {
   "cell_type": "code",
   "execution_count": null,
   "id": "120da7fb-c406-408f-86e5-777deffc8148",
   "metadata": {},
   "outputs": [],
   "source": []
  },
  {
   "cell_type": "code",
   "execution_count": null,
   "id": "f8672748-a609-443c-95d2-8fb71363513f",
   "metadata": {},
   "outputs": [],
   "source": []
  },
  {
   "cell_type": "code",
   "execution_count": null,
   "id": "5cbd9a80-36af-4488-bfbc-28b19c51bd6c",
   "metadata": {},
   "outputs": [],
   "source": []
  }
 ],
 "metadata": {
  "kernelspec": {
   "display_name": "Python 3 (ipykernel)",
   "language": "python",
   "name": "python3"
  },
  "language_info": {
   "codemirror_mode": {
    "name": "ipython",
    "version": 3
   },
   "file_extension": ".py",
   "mimetype": "text/x-python",
   "name": "python",
   "nbconvert_exporter": "python",
   "pygments_lexer": "ipython3",
   "version": "3.12.1"
  }
 },
 "nbformat": 4,
 "nbformat_minor": 5
}
