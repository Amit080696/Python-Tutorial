{
 "cells": [
  {
   "cell_type": "markdown",
   "id": "21638a2f-5cce-4b91-8960-05786f5d81c2",
   "metadata": {},
   "source": [
    "\n",
    "List comprehension is a Python feature that provides a concise and efficient way to create lists. It allows you to build a list using a single line of code, combining an expression and a loop or condition.\n",
    "\n",
    "Here's the general syntax of list comprehension:\n",
    "\n",
    "        [expression for item in iterable if condition]"
   ]
  },
  {
   "cell_type": "code",
   "execution_count": 1,
   "id": "79b620c8-b355-4a46-9ce7-05b7fcf6a9a7",
   "metadata": {},
   "outputs": [
    {
     "data": {
      "text/plain": [
       "[1, 4, 9, 16, 25]"
      ]
     },
     "execution_count": 1,
     "metadata": {},
     "output_type": "execute_result"
    }
   ],
   "source": [
    "lst1 = []\n",
    "def lst_square(lst):\n",
    "    for i in lst:\n",
    "        lst1.append(i*i)\n",
    "    return lst1\n",
    "lst_square([1,2,3,4,5])"
   ]
  },
  {
   "cell_type": "code",
   "execution_count": 2,
   "id": "44dc2db5-1d49-469e-b97e-463326726da5",
   "metadata": {},
   "outputs": [
    {
     "data": {
      "text/plain": [
       "[1, 4, 9, 16, 25]"
      ]
     },
     "execution_count": 2,
     "metadata": {},
     "output_type": "execute_result"
    }
   ],
   "source": [
    "lst2 = [1,2,3,4,5]\n",
    "new_lst1 = [x**2 for x in lst2]\n",
    "new_lst1"
   ]
  },
  {
   "cell_type": "code",
   "execution_count": 3,
   "id": "63a379b2-5b7d-4d99-b6b5-ca3e34ad82aa",
   "metadata": {},
   "outputs": [
    {
     "data": {
      "text/plain": [
       "[1, 4, 9, 16, 25]"
      ]
     },
     "execution_count": 3,
     "metadata": {},
     "output_type": "execute_result"
    }
   ],
   "source": [
    "new_lst2 = [i*i for i in lst2]\n",
    "new_lst2"
   ]
  },
  {
   "cell_type": "code",
   "execution_count": 4,
   "id": "a2f3a031-749a-4925-9f47-5ef788cf8d85",
   "metadata": {},
   "outputs": [
    {
     "data": {
      "text/plain": [
       "[4, 16]"
      ]
     },
     "execution_count": 4,
     "metadata": {},
     "output_type": "execute_result"
    }
   ],
   "source": [
    "[i*i for i in lst2 if i%2 ==0]"
   ]
  },
  {
   "cell_type": "code",
   "execution_count": 5,
   "id": "36dc4056-e1d4-4c34-87dd-2580fab4ecdb",
   "metadata": {},
   "outputs": [
    {
     "data": {
      "text/plain": [
       "[4, 16]"
      ]
     },
     "execution_count": 5,
     "metadata": {},
     "output_type": "execute_result"
    }
   ],
   "source": [
    "[x**2 for x in lst2 if x%2 ==0]"
   ]
  },
  {
   "cell_type": "code",
   "execution_count": 6,
   "id": "8e0e8ffb-a400-4f26-883f-9b59bfef8bf8",
   "metadata": {},
   "outputs": [
    {
     "data": {
      "text/plain": [
       "[1, 9, 25]"
      ]
     },
     "execution_count": 6,
     "metadata": {},
     "output_type": "execute_result"
    }
   ],
   "source": [
    "[x**2 for x in lst2 if x%2 !=0]"
   ]
  }
 ],
 "metadata": {
  "kernelspec": {
   "display_name": "Python 3 (ipykernel)",
   "language": "python",
   "name": "python3"
  },
  "language_info": {
   "codemirror_mode": {
    "name": "ipython",
    "version": 3
   },
   "file_extension": ".py",
   "mimetype": "text/x-python",
   "name": "python",
   "nbconvert_exporter": "python",
   "pygments_lexer": "ipython3",
   "version": "3.12.1"
  }
 },
 "nbformat": 4,
 "nbformat_minor": 5
}
