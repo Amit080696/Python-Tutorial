{
 "cells": [
  {
   "cell_type": "markdown",
   "id": "72c349bd-cdc3-4bf4-98ec-164d2c0f440e",
   "metadata": {},
   "source": [
    "Lambda Function also known as anonymous functions or A function with no name.\n",
    "\n",
    "A lambda function has the following syntax: \n",
    "\n",
    "       lambda arguments: expression\n",
    "\n",
    " - 'arguments' is a comma-separated list of arguments the lambda function takes.\n",
    " - 'expression' is a single expression that the lambda function returns as its result."
   ]
  },
  {
   "cell_type": "code",
   "execution_count": 7,
   "id": "345d3e32-6de6-4863-8f82-a7f75290674c",
   "metadata": {},
   "outputs": [
    {
     "data": {
      "text/plain": [
       "8"
      ]
     },
     "execution_count": 7,
     "metadata": {},
     "output_type": "execute_result"
    }
   ],
   "source": [
    "add = lambda x, y: x + y\n",
    "add(3, 5)"
   ]
  },
  {
   "cell_type": "code",
   "execution_count": 8,
   "id": "bac0693e-8d49-4327-9391-0aa526fea1bb",
   "metadata": {},
   "outputs": [
    {
     "data": {
      "text/plain": [
       "True"
      ]
     },
     "execution_count": 8,
     "metadata": {},
     "output_type": "execute_result"
    }
   ],
   "source": [
    "#To check even number\n",
    "even1 = lambda x: x%2 ==0\n",
    "even1(12)"
   ]
  },
  {
   "cell_type": "code",
   "execution_count": 10,
   "id": "0bdc6d96-e785-4b03-9f44-35ac85264b00",
   "metadata": {},
   "outputs": [
    {
     "data": {
      "text/plain": [
       "9"
      ]
     },
     "execution_count": 10,
     "metadata": {},
     "output_type": "execute_result"
    }
   ],
   "source": [
    "#addition \n",
    "addition = lambda x,y,z : x+y+z\n",
    "addition(2,3,4)"
   ]
  }
 ],
 "metadata": {
  "kernelspec": {
   "display_name": "Python 3 (ipykernel)",
   "language": "python",
   "name": "python3"
  },
  "language_info": {
   "codemirror_mode": {
    "name": "ipython",
    "version": 3
   },
   "file_extension": ".py",
   "mimetype": "text/x-python",
   "name": "python",
   "nbconvert_exporter": "python",
   "pygments_lexer": "ipython3",
   "version": "3.12.1"
  }
 },
 "nbformat": 4,
 "nbformat_minor": 5
}
