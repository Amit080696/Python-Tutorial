{
 "cells": [
  {
   "cell_type": "code",
   "execution_count": 1,
   "id": "30a32709-6749-4f90-bf63-349e2b8a6857",
   "metadata": {},
   "outputs": [],
   "source": [
    "# All the class variable are public\n",
    "# Car BluePrint \n",
    "class Car:\n",
    "    def __new__(self, window, door, enginetype):\n",
    "        print(\"The Object has started getting initialized\")\n",
    "    def __init__(self, window, door, enginetype):\n",
    "        self.windows = window \n",
    "        self.doors = door \n",
    "        self.enginetypes = enginetype \n",
    "\n",
    "    def __str__(self):\n",
    "        return \"The object had been initialized\"\n",
    "    def __sizeof__(self):\n",
    "        return \"The displays size of the object\"\n",
    "    def drive(self):\n",
    "        print(\"The Person drive the car\")\n",
    "\n",
    "# public variable defined as :  self.windows = window, and private:  self.__windows = window "
   ]
  },
  {
   "cell_type": "code",
   "execution_count": 2,
   "id": "3f2601d3-a5b2-487e-8be9-ccc28ac82bfa",
   "metadata": {},
   "outputs": [
    {
     "name": "stdout",
     "output_type": "stream",
     "text": [
      "The Object has started getting initialized\n"
     ]
    }
   ],
   "source": [
    "c = Car(4,5,'Diesal')"
   ]
  },
  {
   "cell_type": "code",
   "execution_count": 3,
   "id": "5e0f5b86-6960-4175-a904-6a8b5a289b1e",
   "metadata": {},
   "outputs": [
    {
     "data": {
      "text/plain": [
       "['__bool__',\n",
       " '__class__',\n",
       " '__delattr__',\n",
       " '__dir__',\n",
       " '__doc__',\n",
       " '__eq__',\n",
       " '__format__',\n",
       " '__ge__',\n",
       " '__getattribute__',\n",
       " '__getstate__',\n",
       " '__gt__',\n",
       " '__hash__',\n",
       " '__init__',\n",
       " '__init_subclass__',\n",
       " '__le__',\n",
       " '__lt__',\n",
       " '__ne__',\n",
       " '__new__',\n",
       " '__reduce__',\n",
       " '__reduce_ex__',\n",
       " '__repr__',\n",
       " '__setattr__',\n",
       " '__sizeof__',\n",
       " '__str__',\n",
       " '__subclasshook__']"
      ]
     },
     "execution_count": 3,
     "metadata": {},
     "output_type": "execute_result"
    }
   ],
   "source": [
    "dir(c)"
   ]
  },
  {
   "cell_type": "code",
   "execution_count": 4,
   "id": "bcf60742-200f-474a-9244-ed12551607c6",
   "metadata": {},
   "outputs": [],
   "source": [
    "# need to refresh it again "
   ]
  }
 ],
 "metadata": {
  "kernelspec": {
   "display_name": "Python 3 (ipykernel)",
   "language": "python",
   "name": "python3"
  },
  "language_info": {
   "codemirror_mode": {
    "name": "ipython",
    "version": 3
   },
   "file_extension": ".py",
   "mimetype": "text/x-python",
   "name": "python",
   "nbconvert_exporter": "python",
   "pygments_lexer": "ipython3",
   "version": "3.12.1"
  }
 },
 "nbformat": 4,
 "nbformat_minor": 5
}
