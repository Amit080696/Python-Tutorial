{
 "cells": [
  {
   "cell_type": "markdown",
   "id": "c72bd038-bd94-46f8-8d1a-d974b98412b9",
   "metadata": {},
   "source": [
    "A static method is a method that belongs to a class but doesn't operate on an instance of the class or modify the class state (e.g., class variables). Static methods are defined using the @staticmethod decorator and do not take self (instance of the class) or cls (class itself) as the first parameter. Instead, they work independently of the class and its instances.\n",
    "\n",
    "Static methods are useful when you want to define a function that is related to a class but doesn't need to access any instance or class-specific data."
   ]
  },
  {
   "cell_type": "code",
   "execution_count": 1,
   "id": "a5196db3-74bf-435b-b8c9-becda253e634",
   "metadata": {},
   "outputs": [
    {
     "data": {
      "text/plain": [
       "datetime.datetime(2024, 4, 29, 17, 54, 23, 430572)"
      ]
     },
     "execution_count": 1,
     "metadata": {},
     "output_type": "execute_result"
    }
   ],
   "source": [
    "import datetime\n",
    "now = datetime.datetime.now()\n",
    "now"
   ]
  },
  {
   "cell_type": "code",
   "execution_count": 2,
   "id": "c1f3e9dd-03a3-49b1-8428-b8f22ac898dd",
   "metadata": {},
   "outputs": [],
   "source": [
    "class Car:\n",
    "    base_price = 100000 #class variable\n",
    "    \n",
    "    def __init__(self, window, door, power):\n",
    "        #Constructor method: initializes an instance with windows, doors and power\n",
    "        self.windows = window  \n",
    "        self.doors = door \n",
    "        self.power = power\n",
    "        \n",
    "    def what_best_price(self):  # method inside the class(Car)\n",
    "        return \"This base price is {}\".format(self.base_price)\n",
    "    @classmethod\n",
    "    def revise_base_price(cls, inflation):\n",
    "        cls.base_price = cls.base_price+cls.base_price * inflation\n",
    "    @staticmethod\n",
    "    def check_year():\n",
    "        if now.year == 2024:\n",
    "            return True\n",
    "        else:\n",
    "            return False"
   ]
  },
  {
   "cell_type": "code",
   "execution_count": 3,
   "id": "dab57794-6b98-415d-b082-d1314d854997",
   "metadata": {},
   "outputs": [],
   "source": [
    "car1 = Car(4,5,2000)"
   ]
  },
  {
   "cell_type": "code",
   "execution_count": 4,
   "id": "4e4b09af-1a11-47cb-99f6-d616fc67cab0",
   "metadata": {},
   "outputs": [],
   "source": [
    "if(car1.check_year()):\n",
    "    pass\n",
    "else:\n",
    "    Car.revise_base_price()"
   ]
  },
  {
   "cell_type": "code",
   "execution_count": 5,
   "id": "657323c1-8af0-4d42-93e3-2e5e7085ab19",
   "metadata": {},
   "outputs": [
    {
     "data": {
      "text/plain": [
       "100000"
      ]
     },
     "execution_count": 5,
     "metadata": {},
     "output_type": "execute_result"
    }
   ],
   "source": [
    "car1.base_price"
   ]
  },
  {
   "cell_type": "code",
   "execution_count": 6,
   "id": "ad64d810-d14a-40b3-867e-d5aaeaa0a4dc",
   "metadata": {},
   "outputs": [
    {
     "name": "stdout",
     "output_type": "stream",
     "text": [
      "Addition result: 15\n",
      "Subtraction result: 5\n",
      "Multiplication result: 50\n",
      "Division result: 2.0\n",
      "Circle area: 78.53981633974483\n"
     ]
    }
   ],
   "source": [
    "#another example \n",
    "\n",
    "class MathOperations:\n",
    "    # Class variable for storing pi\n",
    "    pi = 3.141592653589793\n",
    "\n",
    "    def __init__(self):\n",
    "        pass\n",
    "\n",
    "    @staticmethod\n",
    "    def add(x, y):\n",
    "        # Static method to add two numbers\n",
    "        return x + y\n",
    "\n",
    "    @staticmethod\n",
    "    def subtract(x, y):\n",
    "        # Static method to subtract two numbers\n",
    "        return x - y\n",
    "\n",
    "    @staticmethod\n",
    "    def multiply(x, y):\n",
    "        # Static method to multiply two numbers\n",
    "        return x * y\n",
    "\n",
    "    @staticmethod\n",
    "    def divide(x, y):\n",
    "        # Static method to divide two numbers\n",
    "        if y == 0:\n",
    "            return \"Division by zero is undefined\"\n",
    "        return x / y\n",
    "\n",
    "    @staticmethod\n",
    "    def calculate_circle_area(radius):\n",
    "        # Static method to calculate the area of a circle\n",
    "        return MathOperations.pi * radius ** 2\n",
    "\n",
    "# Create an instance of the class (not necessary, but possible)\n",
    "math_ops = MathOperations()\n",
    "\n",
    "result_add = MathOperations.add(10, 5)\n",
    "result_subtract = MathOperations.subtract(10, 5)\n",
    "result_multiply = MathOperations.multiply(10, 5)\n",
    "result_divide = MathOperations.divide(10, 5)\n",
    "circle_area = MathOperations.calculate_circle_area(5)\n",
    "\n",
    "print(\"Addition result:\", result_add)\n",
    "print(\"Subtraction result:\", result_subtract)\n",
    "print(\"Multiplication result:\", result_multiply)\n",
    "print(\"Division result:\", result_divide)\n",
    "print(\"Circle area:\", circle_area)"
   ]
  }
 ],
 "metadata": {
  "kernelspec": {
   "display_name": "Python 3 (ipykernel)",
   "language": "python",
   "name": "python3"
  },
  "language_info": {
   "codemirror_mode": {
    "name": "ipython",
    "version": 3
   },
   "file_extension": ".py",
   "mimetype": "text/x-python",
   "name": "python",
   "nbconvert_exporter": "python",
   "pygments_lexer": "ipython3",
   "version": "3.12.1"
  }
 },
 "nbformat": 4,
 "nbformat_minor": 5
}
