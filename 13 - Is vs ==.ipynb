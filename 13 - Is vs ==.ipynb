{
 "cells": [
  {
   "cell_type": "code",
   "execution_count": 3,
   "id": "7db3ede4-bb1e-493d-9196-9b993b0c61be",
   "metadata": {},
   "outputs": [
    {
     "data": {
      "text/plain": [
       "True"
      ]
     },
     "execution_count": 3,
     "metadata": {},
     "output_type": "execute_result"
    }
   ],
   "source": [
    "lst1 = ['Amit', 'Amit1', 'Amit2']\n",
    "lst2 = ['Amit', 'Amit1', 'Amit2']\n",
    "lst1 == lst2"
   ]
  },
  {
   "cell_type": "code",
   "execution_count": 4,
   "id": "fef58390-efb1-4c0b-b13c-52a0ea9fdd56",
   "metadata": {},
   "outputs": [
    {
     "data": {
      "text/plain": [
       "False"
      ]
     },
     "execution_count": 4,
     "metadata": {},
     "output_type": "execute_result"
    }
   ],
   "source": [
    "lst1 = ['Amit', 'Amit1', 'Amit3']\n",
    "lst2 = ['Amit', 'Amit1', 'Amit2']\n",
    "lst1 == lst2"
   ]
  },
  {
   "cell_type": "code",
   "execution_count": 5,
   "id": "a14ef65e-c354-48b9-9570-85754c41acb2",
   "metadata": {},
   "outputs": [
    {
     "data": {
      "text/plain": [
       "True"
      ]
     },
     "execution_count": 5,
     "metadata": {},
     "output_type": "execute_result"
    }
   ],
   "source": [
    "a = 'Amit'\n",
    "b = 'Amit'\n",
    "a==b"
   ]
  },
  {
   "cell_type": "code",
   "execution_count": 8,
   "id": "d4c51bf9-e214-4206-8a87-2a361d66bc84",
   "metadata": {},
   "outputs": [
    {
     "data": {
      "text/plain": [
       "True"
      ]
     },
     "execution_count": 8,
     "metadata": {},
     "output_type": "execute_result"
    }
   ],
   "source": [
    "lst1 = ['Amit', 'Amit1', 'Amit3']\n",
    "lst2 = lst1\n",
    "lst2 is lst1"
   ]
  },
  {
   "cell_type": "code",
   "execution_count": 9,
   "id": "a4538b22-d6ab-4237-9cc2-5a2573fa302d",
   "metadata": {},
   "outputs": [],
   "source": [
    "lst2[0] = 'Krish2'"
   ]
  },
  {
   "cell_type": "code",
   "execution_count": 10,
   "id": "52fb16d0-0ca6-44db-9ab8-8bba3b39861f",
   "metadata": {},
   "outputs": [
    {
     "data": {
      "text/plain": [
       "['Krish2', 'Amit1', 'Amit3']"
      ]
     },
     "execution_count": 10,
     "metadata": {},
     "output_type": "execute_result"
    }
   ],
   "source": [
    "lst1"
   ]
  }
 ],
 "metadata": {
  "kernelspec": {
   "display_name": "Python 3 (ipykernel)",
   "language": "python",
   "name": "python3"
  },
  "language_info": {
   "codemirror_mode": {
    "name": "ipython",
    "version": 3
   },
   "file_extension": ".py",
   "mimetype": "text/x-python",
   "name": "python",
   "nbconvert_exporter": "python",
   "pygments_lexer": "ipython3",
   "version": "3.12.1"
  }
 },
 "nbformat": 4,
 "nbformat_minor": 5
}
